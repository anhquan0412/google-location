{
 "cells": [
  {
   "cell_type": "markdown",
   "metadata": {},
   "source": [
    "# Data cleaning"
   ]
  },
  {
   "cell_type": "code",
   "execution_count": 1,
   "metadata": {},
   "outputs": [],
   "source": [
    "%matplotlib inline\n",
    "%reload_ext autoreload\n",
    "%autoreload 2"
   ]
  },
  {
   "cell_type": "code",
   "execution_count": 2,
   "metadata": {},
   "outputs": [],
   "source": [
    "import numpy as np\n",
    "import pandas as pd\n",
    "from pathlib import Path\n",
    "import json\n",
    "import matplotlib.pyplot as plt"
   ]
  },
  {
   "cell_type": "code",
   "execution_count": 3,
   "metadata": {},
   "outputs": [
    {
     "data": {
      "text/plain": [
       "[PosixPath('data/location_history.json'), PosixPath('data/houston.csv')]"
      ]
     },
     "execution_count": 3,
     "metadata": {},
     "output_type": "execute_result"
    }
   ],
   "source": [
    "PATH = Path('data')\n",
    "list(PATH.iterdir())"
   ]
  },
  {
   "cell_type": "code",
   "execution_count": 4,
   "metadata": {},
   "outputs": [],
   "source": [
    "j_file = json.load((PATH/'location_history.json').open())"
   ]
  },
  {
   "cell_type": "code",
   "execution_count": 5,
   "metadata": {
    "scrolled": false
   },
   "outputs": [],
   "source": [
    "df = pd.DataFrame.from_dict(j_file['locations'])"
   ]
  },
  {
   "cell_type": "code",
   "execution_count": 6,
   "metadata": {
    "scrolled": true
   },
   "outputs": [
    {
     "data": {
      "text/html": [
       "<div>\n",
       "<style scoped>\n",
       "    .dataframe tbody tr th:only-of-type {\n",
       "        vertical-align: middle;\n",
       "    }\n",
       "\n",
       "    .dataframe tbody tr th {\n",
       "        vertical-align: top;\n",
       "    }\n",
       "\n",
       "    .dataframe thead th {\n",
       "        text-align: right;\n",
       "    }\n",
       "</style>\n",
       "<table border=\"1\" class=\"dataframe\">\n",
       "  <thead>\n",
       "    <tr style=\"text-align: right;\">\n",
       "      <th></th>\n",
       "      <th>accuracy</th>\n",
       "      <th>activity</th>\n",
       "      <th>altitude</th>\n",
       "      <th>heading</th>\n",
       "      <th>latitudeE7</th>\n",
       "      <th>longitudeE7</th>\n",
       "      <th>timestampMs</th>\n",
       "      <th>velocity</th>\n",
       "      <th>verticalAccuracy</th>\n",
       "    </tr>\n",
       "  </thead>\n",
       "  <tbody>\n",
       "    <tr>\n",
       "      <th>647887</th>\n",
       "      <td>30</td>\n",
       "      <td>NaN</td>\n",
       "      <td>NaN</td>\n",
       "      <td>NaN</td>\n",
       "      <td>296678426</td>\n",
       "      <td>-952766618</td>\n",
       "      <td>1386536707631</td>\n",
       "      <td>NaN</td>\n",
       "      <td>NaN</td>\n",
       "    </tr>\n",
       "    <tr>\n",
       "      <th>647888</th>\n",
       "      <td>30</td>\n",
       "      <td>[{'timestampMs': '1386536651324', 'activity': ...</td>\n",
       "      <td>NaN</td>\n",
       "      <td>NaN</td>\n",
       "      <td>296678240</td>\n",
       "      <td>-952766606</td>\n",
       "      <td>1386536647690</td>\n",
       "      <td>NaN</td>\n",
       "      <td>NaN</td>\n",
       "    </tr>\n",
       "    <tr>\n",
       "      <th>647889</th>\n",
       "      <td>30</td>\n",
       "      <td>NaN</td>\n",
       "      <td>NaN</td>\n",
       "      <td>NaN</td>\n",
       "      <td>296678308</td>\n",
       "      <td>-952766592</td>\n",
       "      <td>1386536587653</td>\n",
       "      <td>NaN</td>\n",
       "      <td>NaN</td>\n",
       "    </tr>\n",
       "    <tr>\n",
       "      <th>647890</th>\n",
       "      <td>30</td>\n",
       "      <td>NaN</td>\n",
       "      <td>NaN</td>\n",
       "      <td>NaN</td>\n",
       "      <td>296678200</td>\n",
       "      <td>-952766444</td>\n",
       "      <td>1386536527693</td>\n",
       "      <td>NaN</td>\n",
       "      <td>NaN</td>\n",
       "    </tr>\n",
       "    <tr>\n",
       "      <th>647891</th>\n",
       "      <td>11</td>\n",
       "      <td>NaN</td>\n",
       "      <td>NaN</td>\n",
       "      <td>NaN</td>\n",
       "      <td>296678076</td>\n",
       "      <td>-952766669</td>\n",
       "      <td>1386536468150</td>\n",
       "      <td>NaN</td>\n",
       "      <td>NaN</td>\n",
       "    </tr>\n",
       "    <tr>\n",
       "      <th>647892</th>\n",
       "      <td>12</td>\n",
       "      <td>NaN</td>\n",
       "      <td>NaN</td>\n",
       "      <td>NaN</td>\n",
       "      <td>296678120</td>\n",
       "      <td>-952766469</td>\n",
       "      <td>1386536423014</td>\n",
       "      <td>NaN</td>\n",
       "      <td>NaN</td>\n",
       "    </tr>\n",
       "    <tr>\n",
       "      <th>647893</th>\n",
       "      <td>5</td>\n",
       "      <td>[{'timestampMs': '1386536388113', 'activity': ...</td>\n",
       "      <td>31.0</td>\n",
       "      <td>320.0</td>\n",
       "      <td>296677802</td>\n",
       "      <td>-952765843</td>\n",
       "      <td>1386536377898</td>\n",
       "      <td>0.0</td>\n",
       "      <td>NaN</td>\n",
       "    </tr>\n",
       "    <tr>\n",
       "      <th>647894</th>\n",
       "      <td>6</td>\n",
       "      <td>NaN</td>\n",
       "      <td>31.0</td>\n",
       "      <td>320.0</td>\n",
       "      <td>296677783</td>\n",
       "      <td>-952765824</td>\n",
       "      <td>1386536372859</td>\n",
       "      <td>0.0</td>\n",
       "      <td>NaN</td>\n",
       "    </tr>\n",
       "    <tr>\n",
       "      <th>647895</th>\n",
       "      <td>3</td>\n",
       "      <td>NaN</td>\n",
       "      <td>30.0</td>\n",
       "      <td>307.0</td>\n",
       "      <td>296677688</td>\n",
       "      <td>-952765729</td>\n",
       "      <td>1386536352800</td>\n",
       "      <td>0.0</td>\n",
       "      <td>NaN</td>\n",
       "    </tr>\n",
       "    <tr>\n",
       "      <th>647896</th>\n",
       "      <td>8</td>\n",
       "      <td>[{'timestampMs': '1386536307870', 'activity': ...</td>\n",
       "      <td>30.0</td>\n",
       "      <td>161.0</td>\n",
       "      <td>296676529</td>\n",
       "      <td>-952764549</td>\n",
       "      <td>1386536307163</td>\n",
       "      <td>0.0</td>\n",
       "      <td>NaN</td>\n",
       "    </tr>\n",
       "  </tbody>\n",
       "</table>\n",
       "</div>"
      ],
      "text/plain": [
       "        accuracy                                           activity  altitude  \\\n",
       "647887        30                                                NaN       NaN   \n",
       "647888        30  [{'timestampMs': '1386536651324', 'activity': ...       NaN   \n",
       "647889        30                                                NaN       NaN   \n",
       "647890        30                                                NaN       NaN   \n",
       "647891        11                                                NaN       NaN   \n",
       "647892        12                                                NaN       NaN   \n",
       "647893         5  [{'timestampMs': '1386536388113', 'activity': ...      31.0   \n",
       "647894         6                                                NaN      31.0   \n",
       "647895         3                                                NaN      30.0   \n",
       "647896         8  [{'timestampMs': '1386536307870', 'activity': ...      30.0   \n",
       "\n",
       "        heading  latitudeE7  longitudeE7    timestampMs  velocity  \\\n",
       "647887      NaN   296678426   -952766618  1386536707631       NaN   \n",
       "647888      NaN   296678240   -952766606  1386536647690       NaN   \n",
       "647889      NaN   296678308   -952766592  1386536587653       NaN   \n",
       "647890      NaN   296678200   -952766444  1386536527693       NaN   \n",
       "647891      NaN   296678076   -952766669  1386536468150       NaN   \n",
       "647892      NaN   296678120   -952766469  1386536423014       NaN   \n",
       "647893    320.0   296677802   -952765843  1386536377898       0.0   \n",
       "647894    320.0   296677783   -952765824  1386536372859       0.0   \n",
       "647895    307.0   296677688   -952765729  1386536352800       0.0   \n",
       "647896    161.0   296676529   -952764549  1386536307163       0.0   \n",
       "\n",
       "        verticalAccuracy  \n",
       "647887               NaN  \n",
       "647888               NaN  \n",
       "647889               NaN  \n",
       "647890               NaN  \n",
       "647891               NaN  \n",
       "647892               NaN  \n",
       "647893               NaN  \n",
       "647894               NaN  \n",
       "647895               NaN  \n",
       "647896               NaN  "
      ]
     },
     "execution_count": 6,
     "metadata": {},
     "output_type": "execute_result"
    }
   ],
   "source": [
    "df.tail(10) # sort newest to oldest by datetime"
   ]
  },
  {
   "cell_type": "code",
   "execution_count": 7,
   "metadata": {},
   "outputs": [],
   "source": [
    "df.timestampMs = df.timestampMs.astype(np.int64)"
   ]
  },
  {
   "cell_type": "code",
   "execution_count": 8,
   "metadata": {},
   "outputs": [],
   "source": [
    "df['date_time'] = pd.to_datetime(df.timestampMs,unit='ms').dt.tz_localize('utc').dt.tz_convert('US/Central')"
   ]
  },
  {
   "cell_type": "code",
   "execution_count": 8,
   "metadata": {},
   "outputs": [
    {
     "data": {
      "text/html": [
       "<div>\n",
       "<style scoped>\n",
       "    .dataframe tbody tr th:only-of-type {\n",
       "        vertical-align: middle;\n",
       "    }\n",
       "\n",
       "    .dataframe tbody tr th {\n",
       "        vertical-align: top;\n",
       "    }\n",
       "\n",
       "    .dataframe thead th {\n",
       "        text-align: right;\n",
       "    }\n",
       "</style>\n",
       "<table border=\"1\" class=\"dataframe\">\n",
       "  <thead>\n",
       "    <tr style=\"text-align: right;\">\n",
       "      <th></th>\n",
       "      <th>accuracy</th>\n",
       "      <th>activity</th>\n",
       "      <th>altitude</th>\n",
       "      <th>heading</th>\n",
       "      <th>latitudeE7</th>\n",
       "      <th>longitudeE7</th>\n",
       "      <th>timestampMs</th>\n",
       "      <th>velocity</th>\n",
       "      <th>verticalAccuracy</th>\n",
       "      <th>date_time</th>\n",
       "    </tr>\n",
       "  </thead>\n",
       "  <tbody>\n",
       "    <tr>\n",
       "      <th>0</th>\n",
       "      <td>16</td>\n",
       "      <td>NaN</td>\n",
       "      <td>118.0</td>\n",
       "      <td>NaN</td>\n",
       "      <td>390846488</td>\n",
       "      <td>-771527455</td>\n",
       "      <td>1531424546373</td>\n",
       "      <td>NaN</td>\n",
       "      <td>2.0</td>\n",
       "      <td>2018-07-12 14:42:26.373000-05:00</td>\n",
       "    </tr>\n",
       "    <tr>\n",
       "      <th>1</th>\n",
       "      <td>16</td>\n",
       "      <td>NaN</td>\n",
       "      <td>118.0</td>\n",
       "      <td>NaN</td>\n",
       "      <td>390846471</td>\n",
       "      <td>-771527444</td>\n",
       "      <td>1531423345272</td>\n",
       "      <td>NaN</td>\n",
       "      <td>2.0</td>\n",
       "      <td>2018-07-12 14:22:25.272000-05:00</td>\n",
       "    </tr>\n",
       "    <tr>\n",
       "      <th>2</th>\n",
       "      <td>16</td>\n",
       "      <td>NaN</td>\n",
       "      <td>118.0</td>\n",
       "      <td>NaN</td>\n",
       "      <td>390846486</td>\n",
       "      <td>-771527475</td>\n",
       "      <td>1531422368498</td>\n",
       "      <td>NaN</td>\n",
       "      <td>2.0</td>\n",
       "      <td>2018-07-12 14:06:08.498000-05:00</td>\n",
       "    </tr>\n",
       "    <tr>\n",
       "      <th>3</th>\n",
       "      <td>16</td>\n",
       "      <td>NaN</td>\n",
       "      <td>118.0</td>\n",
       "      <td>NaN</td>\n",
       "      <td>390846477</td>\n",
       "      <td>-771527482</td>\n",
       "      <td>1531421692554</td>\n",
       "      <td>NaN</td>\n",
       "      <td>2.0</td>\n",
       "      <td>2018-07-12 13:54:52.554000-05:00</td>\n",
       "    </tr>\n",
       "    <tr>\n",
       "      <th>4</th>\n",
       "      <td>26</td>\n",
       "      <td>NaN</td>\n",
       "      <td>NaN</td>\n",
       "      <td>NaN</td>\n",
       "      <td>390845015</td>\n",
       "      <td>-771527064</td>\n",
       "      <td>1531421092427</td>\n",
       "      <td>NaN</td>\n",
       "      <td>NaN</td>\n",
       "      <td>2018-07-12 13:44:52.427000-05:00</td>\n",
       "    </tr>\n",
       "  </tbody>\n",
       "</table>\n",
       "</div>"
      ],
      "text/plain": [
       "   accuracy activity  altitude  heading  latitudeE7  longitudeE7  \\\n",
       "0        16      NaN     118.0      NaN   390846488   -771527455   \n",
       "1        16      NaN     118.0      NaN   390846471   -771527444   \n",
       "2        16      NaN     118.0      NaN   390846486   -771527475   \n",
       "3        16      NaN     118.0      NaN   390846477   -771527482   \n",
       "4        26      NaN       NaN      NaN   390845015   -771527064   \n",
       "\n",
       "     timestampMs  velocity  verticalAccuracy                        date_time  \n",
       "0  1531424546373       NaN               2.0 2018-07-12 14:42:26.373000-05:00  \n",
       "1  1531423345272       NaN               2.0 2018-07-12 14:22:25.272000-05:00  \n",
       "2  1531422368498       NaN               2.0 2018-07-12 14:06:08.498000-05:00  \n",
       "3  1531421692554       NaN               2.0 2018-07-12 13:54:52.554000-05:00  \n",
       "4  1531421092427       NaN               NaN 2018-07-12 13:44:52.427000-05:00  "
      ]
     },
     "execution_count": 8,
     "metadata": {},
     "output_type": "execute_result"
    }
   ],
   "source": [
    "df.head()"
   ]
  },
  {
   "cell_type": "code",
   "execution_count": 74,
   "metadata": {},
   "outputs": [],
   "source": [
    "# from 2013 to dec 2017 - studying at Houston\n",
    "# df_houston = df[df.timestampMs <= 1485752399000]"
   ]
  },
  {
   "cell_type": "code",
   "execution_count": 9,
   "metadata": {},
   "outputs": [],
   "source": [
    "df_houston = df[df.date_time <= '2017-01-30 06:20:00'].reset_index(drop=True)"
   ]
  },
  {
   "cell_type": "code",
   "execution_count": 10,
   "metadata": {},
   "outputs": [
    {
     "data": {
      "text/html": [
       "<div>\n",
       "<style scoped>\n",
       "    .dataframe tbody tr th:only-of-type {\n",
       "        vertical-align: middle;\n",
       "    }\n",
       "\n",
       "    .dataframe tbody tr th {\n",
       "        vertical-align: top;\n",
       "    }\n",
       "\n",
       "    .dataframe thead th {\n",
       "        text-align: right;\n",
       "    }\n",
       "</style>\n",
       "<table border=\"1\" class=\"dataframe\">\n",
       "  <thead>\n",
       "    <tr style=\"text-align: right;\">\n",
       "      <th></th>\n",
       "      <th>accuracy</th>\n",
       "      <th>activity</th>\n",
       "      <th>altitude</th>\n",
       "      <th>heading</th>\n",
       "      <th>latitudeE7</th>\n",
       "      <th>longitudeE7</th>\n",
       "      <th>timestampMs</th>\n",
       "      <th>velocity</th>\n",
       "      <th>verticalAccuracy</th>\n",
       "      <th>date_time</th>\n",
       "    </tr>\n",
       "  </thead>\n",
       "  <tbody>\n",
       "    <tr>\n",
       "      <th>0</th>\n",
       "      <td>545</td>\n",
       "      <td>[{'timestampMs': '1485778729815', 'activity': ...</td>\n",
       "      <td>23.0</td>\n",
       "      <td>NaN</td>\n",
       "      <td>299853940</td>\n",
       "      <td>-953481015</td>\n",
       "      <td>1485778729042</td>\n",
       "      <td>NaN</td>\n",
       "      <td>NaN</td>\n",
       "      <td>2017-01-30 06:18:49.042000-06:00</td>\n",
       "    </tr>\n",
       "    <tr>\n",
       "      <th>1</th>\n",
       "      <td>585</td>\n",
       "      <td>[{'timestampMs': '1485778608624', 'activity': ...</td>\n",
       "      <td>19.0</td>\n",
       "      <td>NaN</td>\n",
       "      <td>299853159</td>\n",
       "      <td>-953482313</td>\n",
       "      <td>1485778672000</td>\n",
       "      <td>NaN</td>\n",
       "      <td>NaN</td>\n",
       "      <td>2017-01-30 06:17:52-06:00</td>\n",
       "    </tr>\n",
       "    <tr>\n",
       "      <th>2</th>\n",
       "      <td>8</td>\n",
       "      <td>[{'timestampMs': '1485778474389', 'activity': ...</td>\n",
       "      <td>4.0</td>\n",
       "      <td>224.0</td>\n",
       "      <td>299850980</td>\n",
       "      <td>-953489148</td>\n",
       "      <td>1485778297913</td>\n",
       "      <td>NaN</td>\n",
       "      <td>NaN</td>\n",
       "      <td>2017-01-30 06:11:37.913000-06:00</td>\n",
       "    </tr>\n",
       "    <tr>\n",
       "      <th>3</th>\n",
       "      <td>8</td>\n",
       "      <td>NaN</td>\n",
       "      <td>4.0</td>\n",
       "      <td>224.0</td>\n",
       "      <td>299850980</td>\n",
       "      <td>-953489148</td>\n",
       "      <td>1485778233440</td>\n",
       "      <td>NaN</td>\n",
       "      <td>NaN</td>\n",
       "      <td>2017-01-30 06:10:33.440000-06:00</td>\n",
       "    </tr>\n",
       "    <tr>\n",
       "      <th>4</th>\n",
       "      <td>8</td>\n",
       "      <td>[{'timestampMs': '1485778148328', 'activity': ...</td>\n",
       "      <td>4.0</td>\n",
       "      <td>224.0</td>\n",
       "      <td>299850980</td>\n",
       "      <td>-953489148</td>\n",
       "      <td>1485778148040</td>\n",
       "      <td>NaN</td>\n",
       "      <td>NaN</td>\n",
       "      <td>2017-01-30 06:09:08.040000-06:00</td>\n",
       "    </tr>\n",
       "  </tbody>\n",
       "</table>\n",
       "</div>"
      ],
      "text/plain": [
       "   accuracy                                           activity  altitude  \\\n",
       "0       545  [{'timestampMs': '1485778729815', 'activity': ...      23.0   \n",
       "1       585  [{'timestampMs': '1485778608624', 'activity': ...      19.0   \n",
       "2         8  [{'timestampMs': '1485778474389', 'activity': ...       4.0   \n",
       "3         8                                                NaN       4.0   \n",
       "4         8  [{'timestampMs': '1485778148328', 'activity': ...       4.0   \n",
       "\n",
       "   heading  latitudeE7  longitudeE7    timestampMs  velocity  \\\n",
       "0      NaN   299853940   -953481015  1485778729042       NaN   \n",
       "1      NaN   299853159   -953482313  1485778672000       NaN   \n",
       "2    224.0   299850980   -953489148  1485778297913       NaN   \n",
       "3    224.0   299850980   -953489148  1485778233440       NaN   \n",
       "4    224.0   299850980   -953489148  1485778148040       NaN   \n",
       "\n",
       "   verticalAccuracy                        date_time  \n",
       "0               NaN 2017-01-30 06:18:49.042000-06:00  \n",
       "1               NaN        2017-01-30 06:17:52-06:00  \n",
       "2               NaN 2017-01-30 06:11:37.913000-06:00  \n",
       "3               NaN 2017-01-30 06:10:33.440000-06:00  \n",
       "4               NaN 2017-01-30 06:09:08.040000-06:00  "
      ]
     },
     "execution_count": 10,
     "metadata": {},
     "output_type": "execute_result"
    }
   ],
   "source": [
    "df_houston.head()"
   ]
  },
  {
   "cell_type": "code",
   "execution_count": 11,
   "metadata": {},
   "outputs": [
    {
     "data": {
      "text/plain": [
       "(270054, 10)"
      ]
     },
     "execution_count": 11,
     "metadata": {},
     "output_type": "execute_result"
    }
   ],
   "source": [
    "df_houston.shape"
   ]
  },
  {
   "cell_type": "code",
   "execution_count": 8,
   "metadata": {},
   "outputs": [],
   "source": [
    "# note that when saving to csv, data type (dict, list) will be converted into string\n",
    "# df_houston.to_csv(PATH/'houston.csv',index=False)"
   ]
  },
  {
   "cell_type": "code",
   "execution_count": 9,
   "metadata": {},
   "outputs": [],
   "source": [
    "# df_houston = pd.read_csv(PATH/'houston.csv')"
   ]
  },
  {
   "cell_type": "markdown",
   "metadata": {},
   "source": [
    "# Activity (list)"
   ]
  },
  {
   "cell_type": "code",
   "execution_count": 10,
   "metadata": {},
   "outputs": [],
   "source": [
    "df_act = df_houston[~df_houston.activity.isnull()].copy()"
   ]
  },
  {
   "cell_type": "code",
   "execution_count": 85,
   "metadata": {},
   "outputs": [
    {
     "data": {
      "text/plain": [
       "0.38272620794971013"
      ]
     },
     "execution_count": 85,
     "metadata": {},
     "output_type": "execute_result"
    }
   ],
   "source": [
    "# % of non-null activity records\n",
    "len(df_act)/ len(df_houston)"
   ]
  },
  {
   "cell_type": "code",
   "execution_count": 86,
   "metadata": {},
   "outputs": [
    {
     "data": {
      "text/html": [
       "<div>\n",
       "<style scoped>\n",
       "    .dataframe tbody tr th:only-of-type {\n",
       "        vertical-align: middle;\n",
       "    }\n",
       "\n",
       "    .dataframe tbody tr th {\n",
       "        vertical-align: top;\n",
       "    }\n",
       "\n",
       "    .dataframe thead th {\n",
       "        text-align: right;\n",
       "    }\n",
       "</style>\n",
       "<table border=\"1\" class=\"dataframe\">\n",
       "  <thead>\n",
       "    <tr style=\"text-align: right;\">\n",
       "      <th></th>\n",
       "      <th>accuracy</th>\n",
       "      <th>activity</th>\n",
       "      <th>altitude</th>\n",
       "      <th>heading</th>\n",
       "      <th>latitudeE7</th>\n",
       "      <th>longitudeE7</th>\n",
       "      <th>timestampMs</th>\n",
       "      <th>velocity</th>\n",
       "      <th>verticalAccuracy</th>\n",
       "      <th>date_time</th>\n",
       "    </tr>\n",
       "  </thead>\n",
       "  <tbody>\n",
       "    <tr>\n",
       "      <th>269766</th>\n",
       "      <td>30</td>\n",
       "      <td>[{'timestampMs': '1386583293458', 'activity': ...</td>\n",
       "      <td>NaN</td>\n",
       "      <td>NaN</td>\n",
       "      <td>296678587</td>\n",
       "      <td>-952764943</td>\n",
       "      <td>1386583319690</td>\n",
       "      <td>NaN</td>\n",
       "      <td>NaN</td>\n",
       "      <td>2013-12-09 04:01:59.690000-06:00</td>\n",
       "    </tr>\n",
       "    <tr>\n",
       "      <th>269768</th>\n",
       "      <td>31</td>\n",
       "      <td>[{'timestampMs': '1386583203478', 'activity': ...</td>\n",
       "      <td>NaN</td>\n",
       "      <td>NaN</td>\n",
       "      <td>296679650</td>\n",
       "      <td>-952764102</td>\n",
       "      <td>1386583199679</td>\n",
       "      <td>NaN</td>\n",
       "      <td>NaN</td>\n",
       "      <td>2013-12-09 03:59:59.679000-06:00</td>\n",
       "    </tr>\n",
       "    <tr>\n",
       "      <th>269772</th>\n",
       "      <td>27</td>\n",
       "      <td>[{'timestampMs': '1386582982885', 'activity': ...</td>\n",
       "      <td>NaN</td>\n",
       "      <td>NaN</td>\n",
       "      <td>296679784</td>\n",
       "      <td>-952761407</td>\n",
       "      <td>1386582960952</td>\n",
       "      <td>NaN</td>\n",
       "      <td>NaN</td>\n",
       "      <td>2013-12-09 03:56:00.952000-06:00</td>\n",
       "    </tr>\n",
       "    <tr>\n",
       "      <th>269774</th>\n",
       "      <td>32</td>\n",
       "      <td>[{'timestampMs': '1386582885373', 'activity': ...</td>\n",
       "      <td>NaN</td>\n",
       "      <td>NaN</td>\n",
       "      <td>296679627</td>\n",
       "      <td>-952764028</td>\n",
       "      <td>1386582899839</td>\n",
       "      <td>NaN</td>\n",
       "      <td>NaN</td>\n",
       "      <td>2013-12-09 03:54:59.839000-06:00</td>\n",
       "    </tr>\n",
       "    <tr>\n",
       "      <th>269778</th>\n",
       "      <td>30</td>\n",
       "      <td>[{'timestampMs': '1386537188419', 'activity': ...</td>\n",
       "      <td>NaN</td>\n",
       "      <td>NaN</td>\n",
       "      <td>296677881</td>\n",
       "      <td>-952766664</td>\n",
       "      <td>1386537187727</td>\n",
       "      <td>NaN</td>\n",
       "      <td>NaN</td>\n",
       "      <td>2013-12-08 15:13:07.727000-06:00</td>\n",
       "    </tr>\n",
       "    <tr>\n",
       "      <th>269781</th>\n",
       "      <td>30</td>\n",
       "      <td>[{'timestampMs': '1386537011366', 'activity': ...</td>\n",
       "      <td>NaN</td>\n",
       "      <td>NaN</td>\n",
       "      <td>296678288</td>\n",
       "      <td>-952766357</td>\n",
       "      <td>1386537007726</td>\n",
       "      <td>NaN</td>\n",
       "      <td>NaN</td>\n",
       "      <td>2013-12-08 15:10:07.726000-06:00</td>\n",
       "    </tr>\n",
       "    <tr>\n",
       "      <th>269784</th>\n",
       "      <td>30</td>\n",
       "      <td>[{'timestampMs': '1386536831342', 'activity': ...</td>\n",
       "      <td>NaN</td>\n",
       "      <td>NaN</td>\n",
       "      <td>296678431</td>\n",
       "      <td>-952766577</td>\n",
       "      <td>1386536827760</td>\n",
       "      <td>NaN</td>\n",
       "      <td>NaN</td>\n",
       "      <td>2013-12-08 15:07:07.760000-06:00</td>\n",
       "    </tr>\n",
       "    <tr>\n",
       "      <th>269787</th>\n",
       "      <td>30</td>\n",
       "      <td>[{'timestampMs': '1386536651324', 'activity': ...</td>\n",
       "      <td>NaN</td>\n",
       "      <td>NaN</td>\n",
       "      <td>296678240</td>\n",
       "      <td>-952766606</td>\n",
       "      <td>1386536647690</td>\n",
       "      <td>NaN</td>\n",
       "      <td>NaN</td>\n",
       "      <td>2013-12-08 15:04:07.690000-06:00</td>\n",
       "    </tr>\n",
       "    <tr>\n",
       "      <th>269792</th>\n",
       "      <td>5</td>\n",
       "      <td>[{'timestampMs': '1386536388113', 'activity': ...</td>\n",
       "      <td>31.0</td>\n",
       "      <td>320.0</td>\n",
       "      <td>296677802</td>\n",
       "      <td>-952765843</td>\n",
       "      <td>1386536377898</td>\n",
       "      <td>0.0</td>\n",
       "      <td>NaN</td>\n",
       "      <td>2013-12-08 14:59:37.898000-06:00</td>\n",
       "    </tr>\n",
       "    <tr>\n",
       "      <th>269795</th>\n",
       "      <td>8</td>\n",
       "      <td>[{'timestampMs': '1386536307870', 'activity': ...</td>\n",
       "      <td>30.0</td>\n",
       "      <td>161.0</td>\n",
       "      <td>296676529</td>\n",
       "      <td>-952764549</td>\n",
       "      <td>1386536307163</td>\n",
       "      <td>0.0</td>\n",
       "      <td>NaN</td>\n",
       "      <td>2013-12-08 14:58:27.163000-06:00</td>\n",
       "    </tr>\n",
       "  </tbody>\n",
       "</table>\n",
       "</div>"
      ],
      "text/plain": [
       "        accuracy                                           activity  altitude  \\\n",
       "269766        30  [{'timestampMs': '1386583293458', 'activity': ...       NaN   \n",
       "269768        31  [{'timestampMs': '1386583203478', 'activity': ...       NaN   \n",
       "269772        27  [{'timestampMs': '1386582982885', 'activity': ...       NaN   \n",
       "269774        32  [{'timestampMs': '1386582885373', 'activity': ...       NaN   \n",
       "269778        30  [{'timestampMs': '1386537188419', 'activity': ...       NaN   \n",
       "269781        30  [{'timestampMs': '1386537011366', 'activity': ...       NaN   \n",
       "269784        30  [{'timestampMs': '1386536831342', 'activity': ...       NaN   \n",
       "269787        30  [{'timestampMs': '1386536651324', 'activity': ...       NaN   \n",
       "269792         5  [{'timestampMs': '1386536388113', 'activity': ...      31.0   \n",
       "269795         8  [{'timestampMs': '1386536307870', 'activity': ...      30.0   \n",
       "\n",
       "        heading  latitudeE7  longitudeE7    timestampMs  velocity  \\\n",
       "269766      NaN   296678587   -952764943  1386583319690       NaN   \n",
       "269768      NaN   296679650   -952764102  1386583199679       NaN   \n",
       "269772      NaN   296679784   -952761407  1386582960952       NaN   \n",
       "269774      NaN   296679627   -952764028  1386582899839       NaN   \n",
       "269778      NaN   296677881   -952766664  1386537187727       NaN   \n",
       "269781      NaN   296678288   -952766357  1386537007726       NaN   \n",
       "269784      NaN   296678431   -952766577  1386536827760       NaN   \n",
       "269787      NaN   296678240   -952766606  1386536647690       NaN   \n",
       "269792    320.0   296677802   -952765843  1386536377898       0.0   \n",
       "269795    161.0   296676529   -952764549  1386536307163       0.0   \n",
       "\n",
       "        verticalAccuracy                        date_time  \n",
       "269766               NaN 2013-12-09 04:01:59.690000-06:00  \n",
       "269768               NaN 2013-12-09 03:59:59.679000-06:00  \n",
       "269772               NaN 2013-12-09 03:56:00.952000-06:00  \n",
       "269774               NaN 2013-12-09 03:54:59.839000-06:00  \n",
       "269778               NaN 2013-12-08 15:13:07.727000-06:00  \n",
       "269781               NaN 2013-12-08 15:10:07.726000-06:00  \n",
       "269784               NaN 2013-12-08 15:07:07.760000-06:00  \n",
       "269787               NaN 2013-12-08 15:04:07.690000-06:00  \n",
       "269792               NaN 2013-12-08 14:59:37.898000-06:00  \n",
       "269795               NaN 2013-12-08 14:58:27.163000-06:00  "
      ]
     },
     "execution_count": 86,
     "metadata": {},
     "output_type": "execute_result"
    }
   ],
   "source": [
    "df_act.tail(10)"
   ]
  },
  {
   "cell_type": "code",
   "execution_count": 11,
   "metadata": {},
   "outputs": [],
   "source": [
    "df_act_expand = df_act.activity.apply(pd.Series)"
   ]
  },
  {
   "cell_type": "code",
   "execution_count": 94,
   "metadata": {},
   "outputs": [
    {
     "data": {
      "text/html": [
       "<div>\n",
       "<style scoped>\n",
       "    .dataframe tbody tr th:only-of-type {\n",
       "        vertical-align: middle;\n",
       "    }\n",
       "\n",
       "    .dataframe tbody tr th {\n",
       "        vertical-align: top;\n",
       "    }\n",
       "\n",
       "    .dataframe thead th {\n",
       "        text-align: right;\n",
       "    }\n",
       "</style>\n",
       "<table border=\"1\" class=\"dataframe\">\n",
       "  <thead>\n",
       "    <tr style=\"text-align: right;\">\n",
       "      <th></th>\n",
       "      <th>0</th>\n",
       "      <th>1</th>\n",
       "      <th>2</th>\n",
       "      <th>3</th>\n",
       "      <th>4</th>\n",
       "      <th>5</th>\n",
       "      <th>6</th>\n",
       "      <th>7</th>\n",
       "      <th>8</th>\n",
       "      <th>9</th>\n",
       "      <th>...</th>\n",
       "      <th>89</th>\n",
       "      <th>90</th>\n",
       "      <th>91</th>\n",
       "      <th>92</th>\n",
       "      <th>93</th>\n",
       "      <th>94</th>\n",
       "      <th>95</th>\n",
       "      <th>96</th>\n",
       "      <th>97</th>\n",
       "      <th>98</th>\n",
       "    </tr>\n",
       "  </thead>\n",
       "  <tbody>\n",
       "    <tr>\n",
       "      <th>3</th>\n",
       "      <td>{'timestampMs': '1485756858515', 'activity': [...</td>\n",
       "      <td>NaN</td>\n",
       "      <td>NaN</td>\n",
       "      <td>NaN</td>\n",
       "      <td>NaN</td>\n",
       "      <td>NaN</td>\n",
       "      <td>NaN</td>\n",
       "      <td>NaN</td>\n",
       "      <td>NaN</td>\n",
       "      <td>NaN</td>\n",
       "      <td>...</td>\n",
       "      <td>NaN</td>\n",
       "      <td>NaN</td>\n",
       "      <td>NaN</td>\n",
       "      <td>NaN</td>\n",
       "      <td>NaN</td>\n",
       "      <td>NaN</td>\n",
       "      <td>NaN</td>\n",
       "      <td>NaN</td>\n",
       "      <td>NaN</td>\n",
       "      <td>NaN</td>\n",
       "    </tr>\n",
       "    <tr>\n",
       "      <th>25</th>\n",
       "      <td>{'timestampMs': '1485755189121', 'activity': [...</td>\n",
       "      <td>NaN</td>\n",
       "      <td>NaN</td>\n",
       "      <td>NaN</td>\n",
       "      <td>NaN</td>\n",
       "      <td>NaN</td>\n",
       "      <td>NaN</td>\n",
       "      <td>NaN</td>\n",
       "      <td>NaN</td>\n",
       "      <td>NaN</td>\n",
       "      <td>...</td>\n",
       "      <td>NaN</td>\n",
       "      <td>NaN</td>\n",
       "      <td>NaN</td>\n",
       "      <td>NaN</td>\n",
       "      <td>NaN</td>\n",
       "      <td>NaN</td>\n",
       "      <td>NaN</td>\n",
       "      <td>NaN</td>\n",
       "      <td>NaN</td>\n",
       "      <td>NaN</td>\n",
       "    </tr>\n",
       "    <tr>\n",
       "      <th>27</th>\n",
       "      <td>{'timestampMs': '1485755118030', 'activity': [...</td>\n",
       "      <td>NaN</td>\n",
       "      <td>NaN</td>\n",
       "      <td>NaN</td>\n",
       "      <td>NaN</td>\n",
       "      <td>NaN</td>\n",
       "      <td>NaN</td>\n",
       "      <td>NaN</td>\n",
       "      <td>NaN</td>\n",
       "      <td>NaN</td>\n",
       "      <td>...</td>\n",
       "      <td>NaN</td>\n",
       "      <td>NaN</td>\n",
       "      <td>NaN</td>\n",
       "      <td>NaN</td>\n",
       "      <td>NaN</td>\n",
       "      <td>NaN</td>\n",
       "      <td>NaN</td>\n",
       "      <td>NaN</td>\n",
       "      <td>NaN</td>\n",
       "      <td>NaN</td>\n",
       "    </tr>\n",
       "    <tr>\n",
       "      <th>28</th>\n",
       "      <td>{'timestampMs': '1485755048987', 'activity': [...</td>\n",
       "      <td>NaN</td>\n",
       "      <td>NaN</td>\n",
       "      <td>NaN</td>\n",
       "      <td>NaN</td>\n",
       "      <td>NaN</td>\n",
       "      <td>NaN</td>\n",
       "      <td>NaN</td>\n",
       "      <td>NaN</td>\n",
       "      <td>NaN</td>\n",
       "      <td>...</td>\n",
       "      <td>NaN</td>\n",
       "      <td>NaN</td>\n",
       "      <td>NaN</td>\n",
       "      <td>NaN</td>\n",
       "      <td>NaN</td>\n",
       "      <td>NaN</td>\n",
       "      <td>NaN</td>\n",
       "      <td>NaN</td>\n",
       "      <td>NaN</td>\n",
       "      <td>NaN</td>\n",
       "    </tr>\n",
       "    <tr>\n",
       "      <th>31</th>\n",
       "      <td>{'timestampMs': '1485754718107', 'activity': [...</td>\n",
       "      <td>NaN</td>\n",
       "      <td>NaN</td>\n",
       "      <td>NaN</td>\n",
       "      <td>NaN</td>\n",
       "      <td>NaN</td>\n",
       "      <td>NaN</td>\n",
       "      <td>NaN</td>\n",
       "      <td>NaN</td>\n",
       "      <td>NaN</td>\n",
       "      <td>...</td>\n",
       "      <td>NaN</td>\n",
       "      <td>NaN</td>\n",
       "      <td>NaN</td>\n",
       "      <td>NaN</td>\n",
       "      <td>NaN</td>\n",
       "      <td>NaN</td>\n",
       "      <td>NaN</td>\n",
       "      <td>NaN</td>\n",
       "      <td>NaN</td>\n",
       "      <td>NaN</td>\n",
       "    </tr>\n",
       "  </tbody>\n",
       "</table>\n",
       "<p>5 rows × 99 columns</p>\n",
       "</div>"
      ],
      "text/plain": [
       "                                                   0    1    2    3    4   \\\n",
       "3   {'timestampMs': '1485756858515', 'activity': [...  NaN  NaN  NaN  NaN   \n",
       "25  {'timestampMs': '1485755189121', 'activity': [...  NaN  NaN  NaN  NaN   \n",
       "27  {'timestampMs': '1485755118030', 'activity': [...  NaN  NaN  NaN  NaN   \n",
       "28  {'timestampMs': '1485755048987', 'activity': [...  NaN  NaN  NaN  NaN   \n",
       "31  {'timestampMs': '1485754718107', 'activity': [...  NaN  NaN  NaN  NaN   \n",
       "\n",
       "     5    6    7    8    9  ...    89   90   91   92   93   94   95   96   97  \\\n",
       "3   NaN  NaN  NaN  NaN  NaN ...   NaN  NaN  NaN  NaN  NaN  NaN  NaN  NaN  NaN   \n",
       "25  NaN  NaN  NaN  NaN  NaN ...   NaN  NaN  NaN  NaN  NaN  NaN  NaN  NaN  NaN   \n",
       "27  NaN  NaN  NaN  NaN  NaN ...   NaN  NaN  NaN  NaN  NaN  NaN  NaN  NaN  NaN   \n",
       "28  NaN  NaN  NaN  NaN  NaN ...   NaN  NaN  NaN  NaN  NaN  NaN  NaN  NaN  NaN   \n",
       "31  NaN  NaN  NaN  NaN  NaN ...   NaN  NaN  NaN  NaN  NaN  NaN  NaN  NaN  NaN   \n",
       "\n",
       "     98  \n",
       "3   NaN  \n",
       "25  NaN  \n",
       "27  NaN  \n",
       "28  NaN  \n",
       "31  NaN  \n",
       "\n",
       "[5 rows x 99 columns]"
      ]
     },
     "execution_count": 94,
     "metadata": {},
     "output_type": "execute_result"
    }
   ],
   "source": [
    "df_act_expand.head()"
   ]
  },
  {
   "cell_type": "code",
   "execution_count": 12,
   "metadata": {},
   "outputs": [
    {
     "data": {
      "text/plain": [
       "(103372, 99)"
      ]
     },
     "execution_count": 12,
     "metadata": {},
     "output_type": "execute_result"
    }
   ],
   "source": [
    "df_act_expand.shape "
   ]
  },
  {
   "cell_type": "code",
   "execution_count": 89,
   "metadata": {
    "scrolled": true
   },
   "outputs": [
    {
     "data": {
      "text/plain": [
       "0      0.000000\n",
       "1     68.148715\n",
       "2     82.064344\n",
       "3     88.444479\n",
       "4     92.835422\n",
       "5     95.221678\n",
       "6     97.024928\n",
       "7     98.041798\n",
       "8     98.710027\n",
       "9     99.117744\n",
       "10    99.385036\n",
       "11    99.557419\n",
       "12    99.681381\n",
       "13    99.751109\n",
       "14    99.819869\n",
       "15    99.859575\n",
       "16    99.879912\n",
       "17    99.897345\n",
       "18    99.913808\n",
       "19    99.929303\n",
       "20    99.940925\n",
       "21    99.944798\n",
       "22    99.954483\n",
       "23    99.960294\n",
       "24    99.964167\n",
       "25    99.965136\n",
       "26    99.969010\n",
       "27    99.969978\n",
       "28    99.972883\n",
       "29    99.973852\n",
       "        ...    \n",
       "69    99.998063\n",
       "70    99.998063\n",
       "71    99.998063\n",
       "72    99.998063\n",
       "73    99.998063\n",
       "74    99.998063\n",
       "75    99.998063\n",
       "76    99.998063\n",
       "77    99.999032\n",
       "78    99.999032\n",
       "79    99.999032\n",
       "80    99.999032\n",
       "81    99.999032\n",
       "82    99.999032\n",
       "83    99.999032\n",
       "84    99.999032\n",
       "85    99.999032\n",
       "86    99.999032\n",
       "87    99.999032\n",
       "88    99.999032\n",
       "89    99.999032\n",
       "90    99.999032\n",
       "91    99.999032\n",
       "92    99.999032\n",
       "93    99.999032\n",
       "94    99.999032\n",
       "95    99.999032\n",
       "96    99.999032\n",
       "97    99.999032\n",
       "98    99.999032\n",
       "Length: 99, dtype: float64"
      ]
     },
     "execution_count": 89,
     "metadata": {},
     "output_type": "execute_result"
    }
   ],
   "source": [
    "# null values percentages for each col\n",
    "((df_act_expand.isnull().sum()) / len(df_act_expand))*100"
   ]
  },
  {
   "cell_type": "code",
   "execution_count": 13,
   "metadata": {},
   "outputs": [
    {
     "data": {
      "text/plain": [
       "Int64Index([0, 1, 2, 3, 4, 5, 6, 7, 8], dtype='int64')"
      ]
     },
     "execution_count": 13,
     "metadata": {},
     "output_type": "execute_result"
    }
   ],
   "source": [
    "null_sum = df_act_expand.isnull().sum()\n",
    "null_sum[(null_sum / len(df_act_expand))*100 <= 99.0].index\n",
    "# cols 0 to 8 have <= 99.0% null values"
   ]
  },
  {
   "cell_type": "code",
   "execution_count": 14,
   "metadata": {},
   "outputs": [],
   "source": [
    "col_del_start = null_sum[(null_sum / len(df_act_expand))*100 > 99.0].index[0]"
   ]
  },
  {
   "cell_type": "code",
   "execution_count": 15,
   "metadata": {},
   "outputs": [],
   "source": [
    "col_del_end = df_act_expand.shape[1]"
   ]
  },
  {
   "cell_type": "code",
   "execution_count": 16,
   "metadata": {},
   "outputs": [
    {
     "name": "stdout",
     "output_type": "stream",
     "text": [
      "9\n",
      "99\n"
     ]
    }
   ],
   "source": [
    "print(col_del_start)\n",
    "print(col_del_end)"
   ]
  },
  {
   "cell_type": "code",
   "execution_count": 17,
   "metadata": {},
   "outputs": [
    {
     "data": {
      "text/plain": [
       "723604"
      ]
     },
     "execution_count": 17,
     "metadata": {},
     "output_type": "execute_result"
    }
   ],
   "source": [
    "import gc\n",
    "gc.collect()"
   ]
  },
  {
   "cell_type": "code",
   "execution_count": 18,
   "metadata": {
    "scrolled": true
   },
   "outputs": [
    {
     "data": {
      "text/plain": [
       "Int64Index([    52,    751,    754,    756,    757,    856,   1354,   2155,\n",
       "              2191,   2199,\n",
       "            ...\n",
       "            258650, 258655, 258669, 258705, 258724, 258960, 258963, 258968,\n",
       "            258991, 258994],\n",
       "           dtype='int64', length=912)"
      ]
     },
     "execution_count": 18,
     "metadata": {},
     "output_type": "execute_result"
    }
   ],
   "source": [
    "# get records (by indices) that have non-null values starting at col_del_start\n",
    "row_drops = df_act_expand[(~df_act_expand.loc[:,range(col_del_start,col_del_end)].isnull()).sum(axis=1) >=1].index\n",
    "row_drops"
   ]
  },
  {
   "cell_type": "code",
   "execution_count": 19,
   "metadata": {},
   "outputs": [],
   "source": [
    "df_houston2 = df_houston.drop(row_drops)"
   ]
  },
  {
   "cell_type": "code",
   "execution_count": 21,
   "metadata": {},
   "outputs": [
    {
     "data": {
      "text/plain": [
       "(269142, 10)"
      ]
     },
     "execution_count": 21,
     "metadata": {},
     "output_type": "execute_result"
    }
   ],
   "source": [
    "df_houston2.shape"
   ]
  },
  {
   "cell_type": "code",
   "execution_count": 22,
   "metadata": {},
   "outputs": [
    {
     "data": {
      "text/plain": [
       "True"
      ]
     },
     "execution_count": 22,
     "metadata": {},
     "output_type": "execute_result"
    }
   ],
   "source": [
    "# sanity check\n",
    "len(df_houston) - len(df_houston2) == len(row_drops)"
   ]
  },
  {
   "cell_type": "code",
   "execution_count": 23,
   "metadata": {},
   "outputs": [],
   "source": [
    "df_houston2.reset_index(drop=True,inplace=True)"
   ]
  },
  {
   "cell_type": "code",
   "execution_count": 103,
   "metadata": {},
   "outputs": [],
   "source": [
    "# df_houston2.to_csv(PATH/'houston.csv',index=False)"
   ]
  },
  {
   "cell_type": "code",
   "execution_count": 24,
   "metadata": {},
   "outputs": [
    {
     "data": {
      "text/html": [
       "<div>\n",
       "<style scoped>\n",
       "    .dataframe tbody tr th:only-of-type {\n",
       "        vertical-align: middle;\n",
       "    }\n",
       "\n",
       "    .dataframe tbody tr th {\n",
       "        vertical-align: top;\n",
       "    }\n",
       "\n",
       "    .dataframe thead th {\n",
       "        text-align: right;\n",
       "    }\n",
       "</style>\n",
       "<table border=\"1\" class=\"dataframe\">\n",
       "  <thead>\n",
       "    <tr style=\"text-align: right;\">\n",
       "      <th></th>\n",
       "      <th>accuracy</th>\n",
       "      <th>activity</th>\n",
       "      <th>altitude</th>\n",
       "      <th>heading</th>\n",
       "      <th>latitudeE7</th>\n",
       "      <th>longitudeE7</th>\n",
       "      <th>timestampMs</th>\n",
       "      <th>velocity</th>\n",
       "      <th>verticalAccuracy</th>\n",
       "      <th>date_time</th>\n",
       "    </tr>\n",
       "  </thead>\n",
       "  <tbody>\n",
       "    <tr>\n",
       "      <th>0</th>\n",
       "      <td>545</td>\n",
       "      <td>[{'timestampMs': '1485778729815', 'activity': ...</td>\n",
       "      <td>23.0</td>\n",
       "      <td>NaN</td>\n",
       "      <td>299853940</td>\n",
       "      <td>-953481015</td>\n",
       "      <td>1485778729042</td>\n",
       "      <td>NaN</td>\n",
       "      <td>NaN</td>\n",
       "      <td>2017-01-30 06:18:49.042000-06:00</td>\n",
       "    </tr>\n",
       "    <tr>\n",
       "      <th>1</th>\n",
       "      <td>585</td>\n",
       "      <td>[{'timestampMs': '1485778608624', 'activity': ...</td>\n",
       "      <td>19.0</td>\n",
       "      <td>NaN</td>\n",
       "      <td>299853159</td>\n",
       "      <td>-953482313</td>\n",
       "      <td>1485778672000</td>\n",
       "      <td>NaN</td>\n",
       "      <td>NaN</td>\n",
       "      <td>2017-01-30 06:17:52-06:00</td>\n",
       "    </tr>\n",
       "    <tr>\n",
       "      <th>2</th>\n",
       "      <td>8</td>\n",
       "      <td>[{'timestampMs': '1485778474389', 'activity': ...</td>\n",
       "      <td>4.0</td>\n",
       "      <td>224.0</td>\n",
       "      <td>299850980</td>\n",
       "      <td>-953489148</td>\n",
       "      <td>1485778297913</td>\n",
       "      <td>NaN</td>\n",
       "      <td>NaN</td>\n",
       "      <td>2017-01-30 06:11:37.913000-06:00</td>\n",
       "    </tr>\n",
       "    <tr>\n",
       "      <th>3</th>\n",
       "      <td>8</td>\n",
       "      <td>NaN</td>\n",
       "      <td>4.0</td>\n",
       "      <td>224.0</td>\n",
       "      <td>299850980</td>\n",
       "      <td>-953489148</td>\n",
       "      <td>1485778233440</td>\n",
       "      <td>NaN</td>\n",
       "      <td>NaN</td>\n",
       "      <td>2017-01-30 06:10:33.440000-06:00</td>\n",
       "    </tr>\n",
       "    <tr>\n",
       "      <th>4</th>\n",
       "      <td>8</td>\n",
       "      <td>[{'timestampMs': '1485778148328', 'activity': ...</td>\n",
       "      <td>4.0</td>\n",
       "      <td>224.0</td>\n",
       "      <td>299850980</td>\n",
       "      <td>-953489148</td>\n",
       "      <td>1485778148040</td>\n",
       "      <td>NaN</td>\n",
       "      <td>NaN</td>\n",
       "      <td>2017-01-30 06:09:08.040000-06:00</td>\n",
       "    </tr>\n",
       "  </tbody>\n",
       "</table>\n",
       "</div>"
      ],
      "text/plain": [
       "   accuracy                                           activity  altitude  \\\n",
       "0       545  [{'timestampMs': '1485778729815', 'activity': ...      23.0   \n",
       "1       585  [{'timestampMs': '1485778608624', 'activity': ...      19.0   \n",
       "2         8  [{'timestampMs': '1485778474389', 'activity': ...       4.0   \n",
       "3         8                                                NaN       4.0   \n",
       "4         8  [{'timestampMs': '1485778148328', 'activity': ...       4.0   \n",
       "\n",
       "   heading  latitudeE7  longitudeE7    timestampMs  velocity  \\\n",
       "0      NaN   299853940   -953481015  1485778729042       NaN   \n",
       "1      NaN   299853159   -953482313  1485778672000       NaN   \n",
       "2    224.0   299850980   -953489148  1485778297913       NaN   \n",
       "3    224.0   299850980   -953489148  1485778233440       NaN   \n",
       "4    224.0   299850980   -953489148  1485778148040       NaN   \n",
       "\n",
       "   verticalAccuracy                        date_time  \n",
       "0               NaN 2017-01-30 06:18:49.042000-06:00  \n",
       "1               NaN        2017-01-30 06:17:52-06:00  \n",
       "2               NaN 2017-01-30 06:11:37.913000-06:00  \n",
       "3               NaN 2017-01-30 06:10:33.440000-06:00  \n",
       "4               NaN 2017-01-30 06:09:08.040000-06:00  "
      ]
     },
     "execution_count": 24,
     "metadata": {},
     "output_type": "execute_result"
    }
   ],
   "source": [
    "df_houston2.head()"
   ]
  },
  {
   "cell_type": "markdown",
   "metadata": {},
   "source": [
    "# Activity (dictionary)"
   ]
  },
  {
   "cell_type": "code",
   "execution_count": 24,
   "metadata": {},
   "outputs": [],
   "source": [
    "df_act = df_houston2[~df_houston2.activity.isnull()].copy()"
   ]
  },
  {
   "cell_type": "code",
   "execution_count": 25,
   "metadata": {},
   "outputs": [
    {
     "data": {
      "text/plain": [
       "(102460, 10)"
      ]
     },
     "execution_count": 25,
     "metadata": {},
     "output_type": "execute_result"
    }
   ],
   "source": [
    "df_act.shape"
   ]
  },
  {
   "cell_type": "code",
   "execution_count": 120,
   "metadata": {},
   "outputs": [
    {
     "data": {
      "text/plain": [
       "dict_keys(['timestampMs', 'activity'])"
      ]
     },
     "execution_count": 120,
     "metadata": {},
     "output_type": "execute_result"
    }
   ],
   "source": [
    "df_act.iloc[3].activity[0].keys()"
   ]
  },
  {
   "cell_type": "code",
   "execution_count": 126,
   "metadata": {},
   "outputs": [
    {
     "data": {
      "text/plain": [
       "0"
      ]
     },
     "execution_count": 126,
     "metadata": {},
     "output_type": "execute_result"
    }
   ],
   "source": [
    "# check if # of keys are consistent\n",
    "(df_act.activity.apply(lambda x: len(x[0].keys())) <2).sum()"
   ]
  },
  {
   "cell_type": "code",
   "execution_count": 127,
   "metadata": {},
   "outputs": [
    {
     "data": {
      "text/plain": [
       "29"
      ]
     },
     "execution_count": 127,
     "metadata": {},
     "output_type": "execute_result"
    }
   ],
   "source": [
    "(df_act.activity.apply(lambda x: len(x[0].keys())) >2).sum()"
   ]
  },
  {
   "cell_type": "code",
   "execution_count": 130,
   "metadata": {},
   "outputs": [
    {
     "data": {
      "text/plain": [
       "19233    (timestampMs, activity, extra)\n",
       "19234    (timestampMs, activity, extra)\n",
       "19236    (timestampMs, activity, extra)\n",
       "19237    (timestampMs, activity, extra)\n",
       "19238    (timestampMs, activity, extra)\n",
       "19242    (timestampMs, activity, extra)\n",
       "19243    (timestampMs, activity, extra)\n",
       "19244    (timestampMs, activity, extra)\n",
       "19246    (timestampMs, activity, extra)\n",
       "19250    (timestampMs, activity, extra)\n",
       "19301    (timestampMs, activity, extra)\n",
       "19303    (timestampMs, activity, extra)\n",
       "19304    (timestampMs, activity, extra)\n",
       "19305    (timestampMs, activity, extra)\n",
       "19307    (timestampMs, activity, extra)\n",
       "19309    (timestampMs, activity, extra)\n",
       "19310    (timestampMs, activity, extra)\n",
       "19315    (timestampMs, activity, extra)\n",
       "19318    (timestampMs, activity, extra)\n",
       "19352    (timestampMs, activity, extra)\n",
       "19353    (timestampMs, activity, extra)\n",
       "19354    (timestampMs, activity, extra)\n",
       "19356    (timestampMs, activity, extra)\n",
       "19357    (timestampMs, activity, extra)\n",
       "19358    (timestampMs, activity, extra)\n",
       "19360    (timestampMs, activity, extra)\n",
       "19363    (timestampMs, activity, extra)\n",
       "19365    (timestampMs, activity, extra)\n",
       "19366    (timestampMs, activity, extra)\n",
       "Name: activity, dtype: object"
      ]
     },
     "execution_count": 130,
     "metadata": {},
     "output_type": "execute_result"
    }
   ],
   "source": [
    "df_act[(df_act.activity.apply(lambda x: len(x[0].keys())) >2)].activity.apply(lambda x: x[0].keys())"
   ]
  },
  {
   "cell_type": "code",
   "execution_count": 139,
   "metadata": {
    "scrolled": false
   },
   "outputs": [
    {
     "data": {
      "text/html": [
       "<div>\n",
       "<style scoped>\n",
       "    .dataframe tbody tr th:only-of-type {\n",
       "        vertical-align: middle;\n",
       "    }\n",
       "\n",
       "    .dataframe tbody tr th {\n",
       "        vertical-align: top;\n",
       "    }\n",
       "\n",
       "    .dataframe thead th {\n",
       "        text-align: right;\n",
       "    }\n",
       "</style>\n",
       "<table border=\"1\" class=\"dataframe\">\n",
       "  <thead>\n",
       "    <tr style=\"text-align: right;\">\n",
       "      <th></th>\n",
       "      <th>accuracy</th>\n",
       "      <th>activity</th>\n",
       "      <th>altitude</th>\n",
       "      <th>heading</th>\n",
       "      <th>latitudeE7</th>\n",
       "      <th>longitudeE7</th>\n",
       "      <th>timestampMs</th>\n",
       "      <th>velocity</th>\n",
       "      <th>verticalAccuracy</th>\n",
       "      <th>date_time</th>\n",
       "    </tr>\n",
       "  </thead>\n",
       "  <tbody>\n",
       "    <tr>\n",
       "      <th>19233</th>\n",
       "      <td>10</td>\n",
       "      <td>[{'timestampMs': '1483476045607', 'activity': ...</td>\n",
       "      <td>139.0</td>\n",
       "      <td>NaN</td>\n",
       "      <td>302671551</td>\n",
       "      <td>-977364333</td>\n",
       "      <td>1483476054000</td>\n",
       "      <td>NaN</td>\n",
       "      <td>NaN</td>\n",
       "      <td>2017-01-03 14:40:54-06:00</td>\n",
       "    </tr>\n",
       "    <tr>\n",
       "      <th>19234</th>\n",
       "      <td>6</td>\n",
       "      <td>[{'timestampMs': '1483476005007', 'activity': ...</td>\n",
       "      <td>110.0</td>\n",
       "      <td>113.0</td>\n",
       "      <td>302673285</td>\n",
       "      <td>-977364433</td>\n",
       "      <td>1483476007000</td>\n",
       "      <td>NaN</td>\n",
       "      <td>NaN</td>\n",
       "      <td>2017-01-03 14:40:07-06:00</td>\n",
       "    </tr>\n",
       "    <tr>\n",
       "      <th>19236</th>\n",
       "      <td>81</td>\n",
       "      <td>[{'timestampMs': '1483475901753', 'activity': ...</td>\n",
       "      <td>139.0</td>\n",
       "      <td>194.0</td>\n",
       "      <td>302675094</td>\n",
       "      <td>-977345823</td>\n",
       "      <td>1483475902099</td>\n",
       "      <td>NaN</td>\n",
       "      <td>NaN</td>\n",
       "      <td>2017-01-03 14:38:22.099000-06:00</td>\n",
       "    </tr>\n",
       "    <tr>\n",
       "      <th>19237</th>\n",
       "      <td>6</td>\n",
       "      <td>[{'timestampMs': '1483475876740', 'activity': ...</td>\n",
       "      <td>124.0</td>\n",
       "      <td>197.0</td>\n",
       "      <td>302726936</td>\n",
       "      <td>-977325865</td>\n",
       "      <td>1483475861000</td>\n",
       "      <td>NaN</td>\n",
       "      <td>NaN</td>\n",
       "      <td>2017-01-03 14:37:41-06:00</td>\n",
       "    </tr>\n",
       "    <tr>\n",
       "      <th>19238</th>\n",
       "      <td>25</td>\n",
       "      <td>[{'timestampMs': '1483475800610', 'activity': ...</td>\n",
       "      <td>156.0</td>\n",
       "      <td>NaN</td>\n",
       "      <td>302787863</td>\n",
       "      <td>-977303576</td>\n",
       "      <td>1483475802000</td>\n",
       "      <td>NaN</td>\n",
       "      <td>NaN</td>\n",
       "      <td>2017-01-03 14:36:42-06:00</td>\n",
       "    </tr>\n",
       "    <tr>\n",
       "      <th>19242</th>\n",
       "      <td>164</td>\n",
       "      <td>[{'timestampMs': '1483475547194', 'activity': ...</td>\n",
       "      <td>140.0</td>\n",
       "      <td>12.0</td>\n",
       "      <td>302892518</td>\n",
       "      <td>-977335032</td>\n",
       "      <td>1483475553000</td>\n",
       "      <td>NaN</td>\n",
       "      <td>NaN</td>\n",
       "      <td>2017-01-03 14:32:33-06:00</td>\n",
       "    </tr>\n",
       "    <tr>\n",
       "      <th>19243</th>\n",
       "      <td>26</td>\n",
       "      <td>[{'timestampMs': '1483475441573', 'activity': ...</td>\n",
       "      <td>146.0</td>\n",
       "      <td>297.0</td>\n",
       "      <td>302851776</td>\n",
       "      <td>-977308641</td>\n",
       "      <td>1483475443000</td>\n",
       "      <td>NaN</td>\n",
       "      <td>NaN</td>\n",
       "      <td>2017-01-03 14:30:43-06:00</td>\n",
       "    </tr>\n",
       "    <tr>\n",
       "      <th>19244</th>\n",
       "      <td>50</td>\n",
       "      <td>[{'timestampMs': '1483475391745', 'activity': ...</td>\n",
       "      <td>106.0</td>\n",
       "      <td>209.0</td>\n",
       "      <td>302832369</td>\n",
       "      <td>-977272578</td>\n",
       "      <td>1483475370000</td>\n",
       "      <td>NaN</td>\n",
       "      <td>NaN</td>\n",
       "      <td>2017-01-03 14:29:30-06:00</td>\n",
       "    </tr>\n",
       "    <tr>\n",
       "      <th>19246</th>\n",
       "      <td>3</td>\n",
       "      <td>[{'timestampMs': '1483475232716', 'activity': ...</td>\n",
       "      <td>146.0</td>\n",
       "      <td>15.0</td>\n",
       "      <td>302849430</td>\n",
       "      <td>-977307137</td>\n",
       "      <td>1483475234000</td>\n",
       "      <td>NaN</td>\n",
       "      <td>NaN</td>\n",
       "      <td>2017-01-03 14:27:14-06:00</td>\n",
       "    </tr>\n",
       "    <tr>\n",
       "      <th>19250</th>\n",
       "      <td>50</td>\n",
       "      <td>[{'timestampMs': '1483475170300', 'activity': ...</td>\n",
       "      <td>NaN</td>\n",
       "      <td>NaN</td>\n",
       "      <td>302850235</td>\n",
       "      <td>-977283036</td>\n",
       "      <td>1483475158077</td>\n",
       "      <td>NaN</td>\n",
       "      <td>NaN</td>\n",
       "      <td>2017-01-03 14:25:58.077000-06:00</td>\n",
       "    </tr>\n",
       "  </tbody>\n",
       "</table>\n",
       "</div>"
      ],
      "text/plain": [
       "       accuracy                                           activity  altitude  \\\n",
       "19233        10  [{'timestampMs': '1483476045607', 'activity': ...     139.0   \n",
       "19234         6  [{'timestampMs': '1483476005007', 'activity': ...     110.0   \n",
       "19236        81  [{'timestampMs': '1483475901753', 'activity': ...     139.0   \n",
       "19237         6  [{'timestampMs': '1483475876740', 'activity': ...     124.0   \n",
       "19238        25  [{'timestampMs': '1483475800610', 'activity': ...     156.0   \n",
       "19242       164  [{'timestampMs': '1483475547194', 'activity': ...     140.0   \n",
       "19243        26  [{'timestampMs': '1483475441573', 'activity': ...     146.0   \n",
       "19244        50  [{'timestampMs': '1483475391745', 'activity': ...     106.0   \n",
       "19246         3  [{'timestampMs': '1483475232716', 'activity': ...     146.0   \n",
       "19250        50  [{'timestampMs': '1483475170300', 'activity': ...       NaN   \n",
       "\n",
       "       heading  latitudeE7  longitudeE7    timestampMs  velocity  \\\n",
       "19233      NaN   302671551   -977364333  1483476054000       NaN   \n",
       "19234    113.0   302673285   -977364433  1483476007000       NaN   \n",
       "19236    194.0   302675094   -977345823  1483475902099       NaN   \n",
       "19237    197.0   302726936   -977325865  1483475861000       NaN   \n",
       "19238      NaN   302787863   -977303576  1483475802000       NaN   \n",
       "19242     12.0   302892518   -977335032  1483475553000       NaN   \n",
       "19243    297.0   302851776   -977308641  1483475443000       NaN   \n",
       "19244    209.0   302832369   -977272578  1483475370000       NaN   \n",
       "19246     15.0   302849430   -977307137  1483475234000       NaN   \n",
       "19250      NaN   302850235   -977283036  1483475158077       NaN   \n",
       "\n",
       "       verticalAccuracy                        date_time  \n",
       "19233               NaN        2017-01-03 14:40:54-06:00  \n",
       "19234               NaN        2017-01-03 14:40:07-06:00  \n",
       "19236               NaN 2017-01-03 14:38:22.099000-06:00  \n",
       "19237               NaN        2017-01-03 14:37:41-06:00  \n",
       "19238               NaN        2017-01-03 14:36:42-06:00  \n",
       "19242               NaN        2017-01-03 14:32:33-06:00  \n",
       "19243               NaN        2017-01-03 14:30:43-06:00  \n",
       "19244               NaN        2017-01-03 14:29:30-06:00  \n",
       "19246               NaN        2017-01-03 14:27:14-06:00  \n",
       "19250               NaN 2017-01-03 14:25:58.077000-06:00  "
      ]
     },
     "execution_count": 139,
     "metadata": {},
     "output_type": "execute_result"
    }
   ],
   "source": [
    "df_act[(df_act.activity.apply(lambda x: len(x[0].keys())) >2)].head(10)"
   ]
  },
  {
   "cell_type": "code",
   "execution_count": 136,
   "metadata": {},
   "outputs": [
    {
     "data": {
      "text/plain": [
       "[{'activity': [{'confidence': 82, 'type': 'IN_VEHICLE'},\n",
       "   {'confidence': 15, 'type': 'STILL'},\n",
       "   {'confidence': 13, 'type': 'UNKNOWN'},\n",
       "   {'confidence': 2, 'type': 'ON_FOOT'},\n",
       "   {'confidence': 2, 'type': 'WALKING'}],\n",
       "  'extra': [{'intVal': 100,\n",
       "    'name': 'vehicle_personal_confidence',\n",
       "    'type': 'VALUE'}],\n",
       "  'timestampMs': '1483476045607'},\n",
       " {'activity': [{'confidence': 100, 'type': 'TILTING'}],\n",
       "  'timestampMs': '1483476045545'}]"
      ]
     },
     "execution_count": 136,
     "metadata": {},
     "output_type": "execute_result"
    }
   ],
   "source": [
    "df_act[(df_act.activity.apply(lambda x: len(x[0].keys())) >2)].loc[19233,'activity']"
   ]
  },
  {
   "cell_type": "code",
   "execution_count": 140,
   "metadata": {},
   "outputs": [
    {
     "data": {
      "text/plain": [
       "[{'activity': [{'confidence': 74, 'type': 'IN_VEHICLE'},\n",
       "   {'confidence': 26, 'type': 'UNKNOWN'}],\n",
       "  'extra': [{'intVal': 100,\n",
       "    'name': 'vehicle_personal_confidence',\n",
       "    'type': 'VALUE'}],\n",
       "  'timestampMs': '1483475547194'},\n",
       " {'activity': [{'confidence': 100, 'type': 'TILTING'}],\n",
       "  'timestampMs': '1483475547028'},\n",
       " {'activity': [{'confidence': 100, 'type': 'IN_VEHICLE'},\n",
       "   {'confidence': 23, 'type': 'STILL'}],\n",
       "  'extra': [{'intVal': 100,\n",
       "    'name': 'vehicle_personal_confidence',\n",
       "    'type': 'VALUE'}],\n",
       "  'timestampMs': '1483475523282'}]"
      ]
     },
     "execution_count": 140,
     "metadata": {},
     "output_type": "execute_result"
    }
   ],
   "source": [
    "df_act[(df_act.activity.apply(lambda x: len(x[0].keys())) >2)].loc[19242,'activity']"
   ]
  },
  {
   "cell_type": "markdown",
   "metadata": {},
   "source": [
    "## Look at 'activity' with >=2 keys in dictionary (dictionary contains 'extra' key)"
   ]
  },
  {
   "cell_type": "code",
   "execution_count": 151,
   "metadata": {},
   "outputs": [],
   "source": [
    "df_act_2act = df_act[(df_act.activity.apply(lambda x: len(x[0].keys())) >2)]"
   ]
  },
  {
   "cell_type": "code",
   "execution_count": 161,
   "metadata": {},
   "outputs": [
    {
     "data": {
      "text/plain": [
       "19233    1\n",
       "19234    1\n",
       "19236    1\n",
       "19237    1\n",
       "19238    1\n",
       "19242    1\n",
       "19243    1\n",
       "19244    1\n",
       "19246    1\n",
       "19250    1\n",
       "19301    1\n",
       "19303    1\n",
       "19304    1\n",
       "19305    1\n",
       "19307    1\n",
       "19309    1\n",
       "19310    1\n",
       "19315    1\n",
       "19318    1\n",
       "19352    1\n",
       "19353    1\n",
       "19354    1\n",
       "19356    1\n",
       "19357    1\n",
       "19358    1\n",
       "19360    1\n",
       "19363    1\n",
       "19365    1\n",
       "19366    1\n",
       "Name: activity, dtype: int64"
      ]
     },
     "execution_count": 161,
     "metadata": {},
     "output_type": "execute_result"
    }
   ],
   "source": [
    "df_act_2act[df_act_2act.activity.apply(lambda x: len(x[0]['extra'][0].keys()) == 3)].activity.apply(lambda x: len(x[0]['extra']))"
   ]
  },
  {
   "cell_type": "code",
   "execution_count": 166,
   "metadata": {},
   "outputs": [
    {
     "data": {
      "text/plain": [
       "19233    {'type': 'VALUE', 'name': 'vehicle_personal_co...\n",
       "19234    {'type': 'VALUE', 'name': 'vehicle_personal_co...\n",
       "19236    {'type': 'VALUE', 'name': 'vehicle_personal_co...\n",
       "19237    {'type': 'VALUE', 'name': 'vehicle_personal_co...\n",
       "19238    {'type': 'VALUE', 'name': 'vehicle_personal_co...\n",
       "19242    {'type': 'VALUE', 'name': 'vehicle_personal_co...\n",
       "19243    {'type': 'VALUE', 'name': 'vehicle_personal_co...\n",
       "19244    {'type': 'VALUE', 'name': 'vehicle_personal_co...\n",
       "19246    {'type': 'VALUE', 'name': 'vehicle_personal_co...\n",
       "19250    {'type': 'VALUE', 'name': 'vehicle_personal_co...\n",
       "19301    {'type': 'VALUE', 'name': 'vehicle_personal_co...\n",
       "19303    {'type': 'VALUE', 'name': 'vehicle_personal_co...\n",
       "19304    {'type': 'VALUE', 'name': 'vehicle_personal_co...\n",
       "19305    {'type': 'VALUE', 'name': 'vehicle_personal_co...\n",
       "19307    {'type': 'VALUE', 'name': 'vehicle_personal_co...\n",
       "19309    {'type': 'VALUE', 'name': 'vehicle_personal_co...\n",
       "19310    {'type': 'VALUE', 'name': 'vehicle_personal_co...\n",
       "19315    {'type': 'VALUE', 'name': 'vehicle_personal_co...\n",
       "19318    {'type': 'VALUE', 'name': 'vehicle_personal_co...\n",
       "19352    {'type': 'VALUE', 'name': 'vehicle_personal_co...\n",
       "19353    {'type': 'VALUE', 'name': 'vehicle_personal_co...\n",
       "19354    {'type': 'VALUE', 'name': 'vehicle_personal_co...\n",
       "19356    {'type': 'VALUE', 'name': 'vehicle_personal_co...\n",
       "19357    {'type': 'VALUE', 'name': 'vehicle_personal_co...\n",
       "19358    {'type': 'VALUE', 'name': 'vehicle_personal_co...\n",
       "19360    {'type': 'VALUE', 'name': 'vehicle_personal_co...\n",
       "19363    {'type': 'VALUE', 'name': 'vehicle_personal_co...\n",
       "19365    {'type': 'VALUE', 'name': 'vehicle_personal_co...\n",
       "19366    {'type': 'VALUE', 'name': 'vehicle_personal_co...\n",
       "Name: activity, dtype: object"
      ]
     },
     "execution_count": 166,
     "metadata": {},
     "output_type": "execute_result"
    }
   ],
   "source": [
    "df_act_2act[df_act_2act.activity.apply(lambda x: len(x[0]['extra'][0].keys()) == 3)].activity.apply(lambda x: x[0]['extra'][0])\n",
    "# conclusion: for each row, extra list only contains 1 value and they are all the same: personal vehicle related info"
   ]
  },
  {
   "cell_type": "markdown",
   "metadata": {},
   "source": [
    "# Create new data record for each non-null activity"
   ]
  },
  {
   "cell_type": "code",
   "execution_count": 25,
   "metadata": {},
   "outputs": [
    {
     "data": {
      "text/plain": [
       "Index(['accuracy', 'activity', 'altitude', 'heading', 'latitudeE7',\n",
       "       'longitudeE7', 'timestampMs', 'velocity', 'verticalAccuracy',\n",
       "       'date_time'],\n",
       "      dtype='object')"
      ]
     },
     "execution_count": 25,
     "metadata": {},
     "output_type": "execute_result"
    }
   ],
   "source": [
    "df_houston2.columns"
   ]
  },
  {
   "cell_type": "code",
   "execution_count": 168,
   "metadata": {},
   "outputs": [
    {
     "data": {
      "text/plain": [
       "['accuracy',\n",
       " 'activity_type',\n",
       " 'extra_intval',\n",
       " 'extra_name',\n",
       " 'extra_type',\n",
       " 'timestampMs (convert to datetime)',\n",
       " 'altitude',\n",
       " 'heading',\n",
       " 'latitudeE7',\n",
       " 'longitudeE7',\n",
       " 'velocity',\n",
       " 'verticalAccuracy',\n",
       " 'date_time']"
      ]
     },
     "execution_count": 168,
     "metadata": {},
     "output_type": "execute_result"
    }
   ],
   "source": [
    "# new dataset will have these columns\n",
    "['accuracy', 'activity_type', 'extra_intval','extra_name','extra_type' ,'timestampMs (convert to datetime)', 'altitude', 'heading', 'latitudeE7',\n",
    "       'longitudeE7', 'velocity', 'verticalAccuracy',\n",
    "       'date_time']"
   ]
  },
  {
   "cell_type": "code",
   "execution_count": 26,
   "metadata": {},
   "outputs": [],
   "source": [
    "df_act = df_houston2[~df_houston2.activity.isnull()].copy()"
   ]
  },
  {
   "cell_type": "code",
   "execution_count": 33,
   "metadata": {},
   "outputs": [
    {
     "data": {
      "text/plain": [
       "(102460,)"
      ]
     },
     "execution_count": 33,
     "metadata": {},
     "output_type": "execute_result"
    }
   ],
   "source": [
    "df_act.timestampMs.value_counts().shape"
   ]
  },
  {
   "cell_type": "code",
   "execution_count": 35,
   "metadata": {},
   "outputs": [
    {
     "data": {
      "text/html": [
       "<div>\n",
       "<style scoped>\n",
       "    .dataframe tbody tr th:only-of-type {\n",
       "        vertical-align: middle;\n",
       "    }\n",
       "\n",
       "    .dataframe tbody tr th {\n",
       "        vertical-align: top;\n",
       "    }\n",
       "\n",
       "    .dataframe thead th {\n",
       "        text-align: right;\n",
       "    }\n",
       "</style>\n",
       "<table border=\"1\" class=\"dataframe\">\n",
       "  <thead>\n",
       "    <tr style=\"text-align: right;\">\n",
       "      <th></th>\n",
       "      <th>accuracy</th>\n",
       "      <th>activity</th>\n",
       "      <th>altitude</th>\n",
       "      <th>heading</th>\n",
       "      <th>latitudeE7</th>\n",
       "      <th>longitudeE7</th>\n",
       "      <th>timestampMs</th>\n",
       "      <th>velocity</th>\n",
       "      <th>verticalAccuracy</th>\n",
       "      <th>date_time</th>\n",
       "    </tr>\n",
       "  </thead>\n",
       "  <tbody>\n",
       "    <tr>\n",
       "      <th>0</th>\n",
       "      <td>545</td>\n",
       "      <td>[{'timestampMs': '1485778729815', 'activity': ...</td>\n",
       "      <td>23.0</td>\n",
       "      <td>NaN</td>\n",
       "      <td>299853940</td>\n",
       "      <td>-953481015</td>\n",
       "      <td>1485778729042</td>\n",
       "      <td>NaN</td>\n",
       "      <td>NaN</td>\n",
       "      <td>2017-01-30 06:18:49.042000-06:00</td>\n",
       "    </tr>\n",
       "    <tr>\n",
       "      <th>1</th>\n",
       "      <td>585</td>\n",
       "      <td>[{'timestampMs': '1485778608624', 'activity': ...</td>\n",
       "      <td>19.0</td>\n",
       "      <td>NaN</td>\n",
       "      <td>299853159</td>\n",
       "      <td>-953482313</td>\n",
       "      <td>1485778672000</td>\n",
       "      <td>NaN</td>\n",
       "      <td>NaN</td>\n",
       "      <td>2017-01-30 06:17:52-06:00</td>\n",
       "    </tr>\n",
       "    <tr>\n",
       "      <th>2</th>\n",
       "      <td>8</td>\n",
       "      <td>[{'timestampMs': '1485778474389', 'activity': ...</td>\n",
       "      <td>4.0</td>\n",
       "      <td>224.0</td>\n",
       "      <td>299850980</td>\n",
       "      <td>-953489148</td>\n",
       "      <td>1485778297913</td>\n",
       "      <td>NaN</td>\n",
       "      <td>NaN</td>\n",
       "      <td>2017-01-30 06:11:37.913000-06:00</td>\n",
       "    </tr>\n",
       "  </tbody>\n",
       "</table>\n",
       "</div>"
      ],
      "text/plain": [
       "   accuracy                                           activity  altitude  \\\n",
       "0       545  [{'timestampMs': '1485778729815', 'activity': ...      23.0   \n",
       "1       585  [{'timestampMs': '1485778608624', 'activity': ...      19.0   \n",
       "2         8  [{'timestampMs': '1485778474389', 'activity': ...       4.0   \n",
       "\n",
       "   heading  latitudeE7  longitudeE7    timestampMs  velocity  \\\n",
       "0      NaN   299853940   -953481015  1485778729042       NaN   \n",
       "1      NaN   299853159   -953482313  1485778672000       NaN   \n",
       "2    224.0   299850980   -953489148  1485778297913       NaN   \n",
       "\n",
       "   verticalAccuracy                        date_time  \n",
       "0               NaN 2017-01-30 06:18:49.042000-06:00  \n",
       "1               NaN        2017-01-30 06:17:52-06:00  \n",
       "2               NaN 2017-01-30 06:11:37.913000-06:00  "
      ]
     },
     "execution_count": 35,
     "metadata": {},
     "output_type": "execute_result"
    }
   ],
   "source": [
    "df_act.head(3)"
   ]
  },
  {
   "cell_type": "code",
   "execution_count": null,
   "metadata": {},
   "outputs": [],
   "source": [
    "[{'activity': [{'confidence': 74, 'type': 'IN_VEHICLE'},\n",
    "   {'confidence': 26, 'type': 'UNKNOWN'}],\n",
    "  'extra': [{'intVal': 100,\n",
    "    'name': 'vehicle_personal_confidence',\n",
    "    'type': 'VALUE'}],\n",
    "  'timestampMs': '1483475547194'},\n",
    " {'activity': [{'confidence': 100, 'type': 'TILTING'}],\n",
    "  'timestampMs': '1483475547028'},\n",
    " {'activity': [{'confidence': 100, 'type': 'IN_VEHICLE'},\n",
    "   {'confidence': 23, 'type': 'STILL'}],\n",
    "  'extra': [{'intVal': 100,\n",
    "    'name': 'vehicle_personal_confidence',\n",
    "    'type': 'VALUE'}],\n",
    "  'timestampMs': '1483475523282'}]"
   ]
  },
  {
   "cell_type": "code",
   "execution_count": null,
   "metadata": {},
   "outputs": [],
   "source": [
    "def activity_breakdown(row):\n",
    "    row['a']=1\n",
    "    row['b']=2\n",
    "    row['c']=3\n",
    "    return row\n",
    "temp = df_act.apply(activity_breakdown,axis=1)"
   ]
  },
  {
   "cell_type": "code",
   "execution_count": 27,
   "metadata": {},
   "outputs": [],
   "source": [
    "temp = pd.DataFrame({'a':[1,1,3],'b':[2,3,4]})"
   ]
  },
  {
   "cell_type": "code",
   "execution_count": 28,
   "metadata": {},
   "outputs": [
    {
     "data": {
      "text/html": [
       "<div>\n",
       "<style scoped>\n",
       "    .dataframe tbody tr th:only-of-type {\n",
       "        vertical-align: middle;\n",
       "    }\n",
       "\n",
       "    .dataframe tbody tr th {\n",
       "        vertical-align: top;\n",
       "    }\n",
       "\n",
       "    .dataframe thead th {\n",
       "        text-align: right;\n",
       "    }\n",
       "</style>\n",
       "<table border=\"1\" class=\"dataframe\">\n",
       "  <thead>\n",
       "    <tr style=\"text-align: right;\">\n",
       "      <th></th>\n",
       "      <th>a</th>\n",
       "      <th>b</th>\n",
       "    </tr>\n",
       "  </thead>\n",
       "  <tbody>\n",
       "    <tr>\n",
       "      <th>0</th>\n",
       "      <td>1</td>\n",
       "      <td>2</td>\n",
       "    </tr>\n",
       "    <tr>\n",
       "      <th>1</th>\n",
       "      <td>1</td>\n",
       "      <td>3</td>\n",
       "    </tr>\n",
       "    <tr>\n",
       "      <th>2</th>\n",
       "      <td>3</td>\n",
       "      <td>4</td>\n",
       "    </tr>\n",
       "  </tbody>\n",
       "</table>\n",
       "</div>"
      ],
      "text/plain": [
       "   a  b\n",
       "0  1  2\n",
       "1  1  3\n",
       "2  3  4"
      ]
     },
     "execution_count": 28,
     "metadata": {},
     "output_type": "execute_result"
    }
   ],
   "source": [
    "temp"
   ]
  },
  {
   "cell_type": "code",
   "execution_count": 36,
   "metadata": {},
   "outputs": [
    {
     "name": "stdout",
     "output_type": "stream",
     "text": [
      "1\n",
      "1\n",
      "3\n"
     ]
    }
   ],
   "source": [
    "for i in temp.a.values:\n",
    "    print(i)"
   ]
  },
  {
   "cell_type": "code",
   "execution_count": 29,
   "metadata": {},
   "outputs": [],
   "source": [
    "def mul_rows(row):\n",
    "    dic={}\n",
    "    dic['c']=[2,3]\n",
    "    dic['d']=[2,3]\n",
    "    return pd.DataFrame()"
   ]
  },
  {
   "cell_type": "code",
   "execution_count": 30,
   "metadata": {},
   "outputs": [],
   "source": [
    "temp2 = temp.apply(mul_rows,axis=1)"
   ]
  },
  {
   "cell_type": "code",
   "execution_count": 31,
   "metadata": {},
   "outputs": [
    {
     "data": {
      "text/html": [
       "<div>\n",
       "<style scoped>\n",
       "    .dataframe tbody tr th:only-of-type {\n",
       "        vertical-align: middle;\n",
       "    }\n",
       "\n",
       "    .dataframe tbody tr th {\n",
       "        vertical-align: top;\n",
       "    }\n",
       "\n",
       "    .dataframe thead th {\n",
       "        text-align: right;\n",
       "    }\n",
       "</style>\n",
       "<table border=\"1\" class=\"dataframe\">\n",
       "  <thead>\n",
       "    <tr style=\"text-align: right;\">\n",
       "      <th></th>\n",
       "      <th>a</th>\n",
       "      <th>b</th>\n",
       "      <th>c</th>\n",
       "      <th>d</th>\n",
       "    </tr>\n",
       "  </thead>\n",
       "  <tbody>\n",
       "    <tr>\n",
       "      <th>0</th>\n",
       "      <td>1</td>\n",
       "      <td>2</td>\n",
       "      <td>[2, 3]</td>\n",
       "      <td>[2, 3]</td>\n",
       "    </tr>\n",
       "    <tr>\n",
       "      <th>1</th>\n",
       "      <td>1</td>\n",
       "      <td>3</td>\n",
       "      <td>[2, 3]</td>\n",
       "      <td>[2, 3]</td>\n",
       "    </tr>\n",
       "    <tr>\n",
       "      <th>2</th>\n",
       "      <td>3</td>\n",
       "      <td>4</td>\n",
       "      <td>[2, 3]</td>\n",
       "      <td>[2, 3]</td>\n",
       "    </tr>\n",
       "  </tbody>\n",
       "</table>\n",
       "</div>"
      ],
      "text/plain": [
       "   a  b       c       d\n",
       "0  1  2  [2, 3]  [2, 3]\n",
       "1  1  3  [2, 3]  [2, 3]\n",
       "2  3  4  [2, 3]  [2, 3]"
      ]
     },
     "execution_count": 31,
     "metadata": {},
     "output_type": "execute_result"
    }
   ],
   "source": [
    "temp2"
   ]
  }
 ],
 "metadata": {
  "kernelspec": {
   "display_name": "Python 3",
   "language": "python",
   "name": "python3"
  },
  "language_info": {
   "codemirror_mode": {
    "name": "ipython",
    "version": 3
   },
   "file_extension": ".py",
   "mimetype": "text/x-python",
   "name": "python",
   "nbconvert_exporter": "python",
   "pygments_lexer": "ipython3",
   "version": "3.6.5"
  },
  "varInspector": {
   "cols": {
    "lenName": 16,
    "lenType": 16,
    "lenVar": 40
   },
   "kernels_config": {
    "python": {
     "delete_cmd_postfix": "",
     "delete_cmd_prefix": "del ",
     "library": "var_list.py",
     "varRefreshCmd": "print(var_dic_list())"
    },
    "r": {
     "delete_cmd_postfix": ") ",
     "delete_cmd_prefix": "rm(",
     "library": "var_list.r",
     "varRefreshCmd": "cat(var_dic_list()) "
    }
   },
   "types_to_exclude": [
    "module",
    "function",
    "builtin_function_or_method",
    "instance",
    "_Feature"
   ],
   "window_display": false
  }
 },
 "nbformat": 4,
 "nbformat_minor": 2
}
