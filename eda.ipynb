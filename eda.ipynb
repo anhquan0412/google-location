{
 "cells": [
  {
   "cell_type": "code",
   "execution_count": 1,
   "metadata": {},
   "outputs": [
    {
     "data": {
      "text/plain": [
       "[PosixPath('data/houston_processed.feather'),\n",
       " PosixPath('data/houston.csv'),\n",
       " PosixPath('data/location_history.json')]"
      ]
     },
     "execution_count": 1,
     "metadata": {},
     "output_type": "execute_result"
    }
   ],
   "source": [
    "%matplotlib inline\n",
    "%reload_ext autoreload\n",
    "%autoreload 2\n",
    "\n",
    "import numpy as np\n",
    "import pandas as pd\n",
    "from pathlib import Path\n",
    "import json\n",
    "import matplotlib.pyplot as plt\n",
    "import seaborn as sns\n",
    "from geopy.distance import distance\n",
    "\n",
    "PATH = Path('data')\n",
    "list(PATH.iterdir())"
   ]
  },
  {
   "cell_type": "code",
   "execution_count": 2,
   "metadata": {},
   "outputs": [],
   "source": [
    "df = pd.read_feather(PATH/'houston_processed.feather')"
   ]
  },
  {
   "cell_type": "code",
   "execution_count": 3,
   "metadata": {},
   "outputs": [
    {
     "name": "stdout",
     "output_type": "stream",
     "text": [
      "(353793, 21)\n",
      "   accuracy  altitude  heading  velocity  verticalAccuracy  act_conf1  \\\n",
      "0         8      30.0    161.0       0.0               NaN      100.0   \n",
      "1         3      30.0    307.0       0.0               NaN        NaN   \n",
      "2         6      31.0    320.0       0.0               NaN        NaN   \n",
      "3         5      31.0    320.0       0.0               NaN      100.0   \n",
      "4        12       NaN      NaN       NaN               NaN        NaN   \n",
      "\n",
      "  act_type1  act_cont2 act_type2  extra_intVal    ...     extra_type  \\\n",
      "0     STILL        NaN      None           NaN    ...           None   \n",
      "1      None        NaN      None           NaN    ...           None   \n",
      "2      None        NaN      None           NaN    ...           None   \n",
      "3   TILTING        NaN      None           NaN    ...           None   \n",
      "4      None        NaN      None           NaN    ...           None   \n",
      "\n",
      "                         date_time  year  month  day  day_of_week  hour  \\\n",
      "0 2013-12-08 14:58:27.870000-06:00  2013     12    8            6    14   \n",
      "1 2013-12-08 14:59:12.800000-06:00  2013     12    8            6    14   \n",
      "2 2013-12-08 14:59:32.859000-06:00  2013     12    8            6    14   \n",
      "3 2013-12-08 14:59:48.113000-06:00  2013     12    8            6    14   \n",
      "4 2013-12-08 15:00:23.014000-06:00  2013     12    8            6    15   \n",
      "\n",
      "   minute   latitude  longitude  \n",
      "0      58  29.667653 -95.276455  \n",
      "1      59  29.667769 -95.276573  \n",
      "2      59  29.667778 -95.276582  \n",
      "3      59  29.667780 -95.276584  \n",
      "4       0  29.667812 -95.276647  \n",
      "\n",
      "[5 rows x 21 columns]\n"
     ]
    }
   ],
   "source": [
    "print(df.shape)\n",
    "print(df.head(3).T)"
   ]
  },
  {
   "cell_type": "code",
   "execution_count": 4,
   "metadata": {},
   "outputs": [
    {
     "data": {
      "text/plain": [
       "accuracy                                 int64\n",
       "altitude                               float64\n",
       "heading                                float64\n",
       "velocity                               float64\n",
       "verticalAccuracy                       float64\n",
       "act_conf1                              float64\n",
       "act_type1                               object\n",
       "act_cont2                              float64\n",
       "act_type2                               object\n",
       "extra_intVal                           float64\n",
       "extra_name                              object\n",
       "extra_type                              object\n",
       "date_time           datetime64[ns, US/Central]\n",
       "year                                     int64\n",
       "month                                    int64\n",
       "day                                      int64\n",
       "day_of_week                              int64\n",
       "hour                                     int64\n",
       "minute                                   int64\n",
       "latitude                               float64\n",
       "longitude                              float64\n",
       "dtype: object"
      ]
     },
     "execution_count": 4,
     "metadata": {},
     "output_type": "execute_result"
    }
   ],
   "source": [
    "df.dtypes"
   ]
  },
  {
   "cell_type": "markdown",
   "metadata": {},
   "source": [
    "# TODO: clean invalid longitude and latitude"
   ]
  },
  {
   "cell_type": "code",
   "execution_count": 5,
   "metadata": {},
   "outputs": [],
   "source": [
    "# # convert timestamp\n",
    "# df['date_time'] = pd.to_datetime(df.timestampMs,unit='ms').dt.tz_localize('utc').dt.tz_convert('US/Central')\n",
    "\n",
    "# df['year']=df.date_time.dt.year\n",
    "\n",
    "# df['month']=df.date_time.dt.month\n",
    "\n",
    "# df['day']=df.date_time.dt.day\n",
    "\n",
    "# df['day_of_week']=df.date_time.dt.dayofweek\n",
    "\n",
    "# df['hour']=df.date_time.dt.hour\n",
    "# df['minute'] = df.date_time.dt.minute\n",
    "\n",
    "# # convert lat - long\n",
    "# df['latitude'] = df.latitudeE7 / 1e7\n",
    "# df['longitude'] = df.longitudeE7 / 1e7\n",
    "\n",
    "# df.drop(['latitudeE7','longitudeE7','timestampMs'],axis=1,inplace=True)\n",
    "\n",
    "# df.to_feather(PATH/'houston_processed.feather')"
   ]
  },
  {
   "cell_type": "code",
   "execution_count": 5,
   "metadata": {},
   "outputs": [],
   "source": [
    "# remove year 2013 due to lack of records\n",
    "# idx_drop = df[df.year==2013].index\n",
    "\n",
    "# df.drop(idx_drop,inplace=True)\n",
    "\n",
    "# df.reset_index(drop=True,inplace=True)"
   ]
  },
  {
   "cell_type": "code",
   "execution_count": 8,
   "metadata": {},
   "outputs": [
    {
     "data": {
      "text/html": [
       "<div>\n",
       "<style scoped>\n",
       "    .dataframe tbody tr th:only-of-type {\n",
       "        vertical-align: middle;\n",
       "    }\n",
       "\n",
       "    .dataframe tbody tr th {\n",
       "        vertical-align: top;\n",
       "    }\n",
       "\n",
       "    .dataframe thead th {\n",
       "        text-align: right;\n",
       "    }\n",
       "</style>\n",
       "<table border=\"1\" class=\"dataframe\">\n",
       "  <thead>\n",
       "    <tr style=\"text-align: right;\">\n",
       "      <th></th>\n",
       "      <th>accuracy</th>\n",
       "      <th>altitude</th>\n",
       "      <th>heading</th>\n",
       "      <th>velocity</th>\n",
       "      <th>verticalAccuracy</th>\n",
       "      <th>act_conf1</th>\n",
       "      <th>act_type1</th>\n",
       "      <th>act_cont2</th>\n",
       "      <th>act_type2</th>\n",
       "      <th>extra_intVal</th>\n",
       "      <th>extra_name</th>\n",
       "      <th>extra_type</th>\n",
       "      <th>date_time</th>\n",
       "      <th>month</th>\n",
       "      <th>day</th>\n",
       "      <th>day_of_week</th>\n",
       "      <th>hour</th>\n",
       "      <th>minute</th>\n",
       "      <th>latitude</th>\n",
       "      <th>longitude</th>\n",
       "    </tr>\n",
       "    <tr>\n",
       "      <th>year</th>\n",
       "      <th></th>\n",
       "      <th></th>\n",
       "      <th></th>\n",
       "      <th></th>\n",
       "      <th></th>\n",
       "      <th></th>\n",
       "      <th></th>\n",
       "      <th></th>\n",
       "      <th></th>\n",
       "      <th></th>\n",
       "      <th></th>\n",
       "      <th></th>\n",
       "      <th></th>\n",
       "      <th></th>\n",
       "      <th></th>\n",
       "      <th></th>\n",
       "      <th></th>\n",
       "      <th></th>\n",
       "      <th></th>\n",
       "      <th></th>\n",
       "    </tr>\n",
       "  </thead>\n",
       "  <tbody>\n",
       "    <tr>\n",
       "      <th>2015</th>\n",
       "      <td>25114</td>\n",
       "      <td>7278</td>\n",
       "      <td>3822</td>\n",
       "      <td>483</td>\n",
       "      <td>0</td>\n",
       "      <td>17925</td>\n",
       "      <td>17925</td>\n",
       "      <td>10276</td>\n",
       "      <td>10276</td>\n",
       "      <td>0</td>\n",
       "      <td>0</td>\n",
       "      <td>0</td>\n",
       "      <td>25114</td>\n",
       "      <td>25114</td>\n",
       "      <td>25114</td>\n",
       "      <td>25114</td>\n",
       "      <td>25114</td>\n",
       "      <td>25114</td>\n",
       "      <td>25114</td>\n",
       "      <td>25114</td>\n",
       "    </tr>\n",
       "    <tr>\n",
       "      <th>2016</th>\n",
       "      <td>288622</td>\n",
       "      <td>148499</td>\n",
       "      <td>51228</td>\n",
       "      <td>4592</td>\n",
       "      <td>0</td>\n",
       "      <td>149389</td>\n",
       "      <td>149389</td>\n",
       "      <td>72541</td>\n",
       "      <td>72541</td>\n",
       "      <td>0</td>\n",
       "      <td>0</td>\n",
       "      <td>0</td>\n",
       "      <td>288622</td>\n",
       "      <td>288622</td>\n",
       "      <td>288622</td>\n",
       "      <td>288622</td>\n",
       "      <td>288622</td>\n",
       "      <td>288622</td>\n",
       "      <td>288622</td>\n",
       "      <td>288622</td>\n",
       "    </tr>\n",
       "    <tr>\n",
       "      <th>2017</th>\n",
       "      <td>29133</td>\n",
       "      <td>15132</td>\n",
       "      <td>4867</td>\n",
       "      <td>612</td>\n",
       "      <td>0</td>\n",
       "      <td>16005</td>\n",
       "      <td>16005</td>\n",
       "      <td>8050</td>\n",
       "      <td>8050</td>\n",
       "      <td>51</td>\n",
       "      <td>51</td>\n",
       "      <td>51</td>\n",
       "      <td>29133</td>\n",
       "      <td>29133</td>\n",
       "      <td>29133</td>\n",
       "      <td>29133</td>\n",
       "      <td>29133</td>\n",
       "      <td>29133</td>\n",
       "      <td>29133</td>\n",
       "      <td>29133</td>\n",
       "    </tr>\n",
       "  </tbody>\n",
       "</table>\n",
       "</div>"
      ],
      "text/plain": [
       "      accuracy  altitude  heading  velocity  verticalAccuracy  act_conf1  \\\n",
       "year                                                                       \n",
       "2015     25114      7278     3822       483                 0      17925   \n",
       "2016    288622    148499    51228      4592                 0     149389   \n",
       "2017     29133     15132     4867       612                 0      16005   \n",
       "\n",
       "      act_type1  act_cont2  act_type2  extra_intVal  extra_name  extra_type  \\\n",
       "year                                                                          \n",
       "2015      17925      10276      10276             0           0           0   \n",
       "2016     149389      72541      72541             0           0           0   \n",
       "2017      16005       8050       8050            51          51          51   \n",
       "\n",
       "      date_time   month     day  day_of_week    hour  minute  latitude  \\\n",
       "year                                                                     \n",
       "2015      25114   25114   25114        25114   25114   25114     25114   \n",
       "2016     288622  288622  288622       288622  288622  288622    288622   \n",
       "2017      29133   29133   29133        29133   29133   29133     29133   \n",
       "\n",
       "      longitude  \n",
       "year             \n",
       "2015      25114  \n",
       "2016     288622  \n",
       "2017      29133  "
      ]
     },
     "execution_count": 8,
     "metadata": {},
     "output_type": "execute_result"
    }
   ],
   "source": [
    "df.groupby('year').count()"
   ]
  },
  {
   "cell_type": "markdown",
   "metadata": {},
   "source": [
    "# Clean invalid longitude and latitude"
   ]
  },
  {
   "cell_type": "markdown",
   "metadata": {},
   "source": [
    "## Miles diff"
   ]
  },
  {
   "cell_type": "code",
   "execution_count": 9,
   "metadata": {},
   "outputs": [],
   "source": [
    "# df_year = df[df.year==2015].copy()\n",
    "# s=0\n",
    "# e=len(df_year)-1"
   ]
  },
  {
   "cell_type": "code",
   "execution_count": 10,
   "metadata": {},
   "outputs": [],
   "source": [
    "def calculate_distance(lat1,long1,lat2,long2):\n",
    "    return float(\"{0:.2f}\".format(distance((lat1,long1),(lat2,long2)).miles))"
   ]
  },
  {
   "cell_type": "code",
   "execution_count": 11,
   "metadata": {},
   "outputs": [],
   "source": [
    "lat2 = df.latitude.values\n",
    "lat1 = df.latitude.shift().values\n",
    "long2 = df.longitude.values\n",
    "long1 = df.longitude.shift().values"
   ]
  },
  {
   "cell_type": "code",
   "execution_count": 12,
   "metadata": {},
   "outputs": [],
   "source": [
    "# df_year['longitude_shift'] = df.longitude.shift()\n",
    "# df_year['latitude_shift'] = df.latitude.shift()\n",
    "\n",
    "# df_year.loc[0,'longitude_shift']=df_year.loc[0,'longitude']\n",
    "# df_year.loc[0,'latitude_shift']=df_year.loc[0,'latitude']\n",
    "\n",
    "# def miles_diff(row):\n",
    "#     lat1,long1 = row['latitude_shift'],row['longitude_shift']\n",
    "#     lat2,long2 = row['latitude'],row['longitude']\n",
    "#     return calculate_distance(lat1,long1,lat2,long2)"
   ]
  },
  {
   "cell_type": "code",
   "execution_count": 27,
   "metadata": {},
   "outputs": [
    {
     "name": "stdout",
     "output_type": "stream",
     "text": [
      "CPU times: user 13 s, sys: 6.61 ms, total: 13 s\n",
      "Wall time: 13 s\n"
     ]
    }
   ],
   "source": [
    "# %%time\n",
    "# temp=df_year.apply(miles_diff,axis=1)"
   ]
  },
  {
   "cell_type": "code",
   "execution_count": 33,
   "metadata": {},
   "outputs": [
    {
     "data": {
      "text/plain": [
       "0.01"
      ]
     },
     "execution_count": 33,
     "metadata": {},
     "output_type": "execute_result"
    }
   ],
   "source": [
    "# quick test\n",
    "# calculate_distance(*df_year.loc[10,['latitude','longitude','latitude_shift','longitude_shift']].values)"
   ]
  },
  {
   "cell_type": "code",
   "execution_count": 34,
   "metadata": {},
   "outputs": [],
   "source": [
    "lat2 = df.latitude.values.tolist()\n",
    "long2 = df.longitude.values.tolist()\n",
    "\n",
    "lat1 = df.latitude.shift().values.tolist()\n",
    "lat1[0] = lat2[0]\n",
    "long1 = df.longitude.shift().values.tolist()\n",
    "long1[0] = long2[0]"
   ]
  },
  {
   "cell_type": "code",
   "execution_count": 35,
   "metadata": {},
   "outputs": [],
   "source": [
    "from concurrent.futures import ProcessPoolExecutor\n",
    "def multiprocessing(func, args, workers):\n",
    "    with ProcessPoolExecutor(max_workers=workers) as executor:\n",
    "        res = executor.map(func, *args)\n",
    "    return (list(res))"
   ]
  },
  {
   "cell_type": "code",
   "execution_count": 36,
   "metadata": {},
   "outputs": [],
   "source": [
    "args = [lat1,long1,lat2,long2]"
   ]
  },
  {
   "cell_type": "code",
   "execution_count": 37,
   "metadata": {},
   "outputs": [
    {
     "name": "stdout",
     "output_type": "stream",
     "text": [
      "CPU times: user 2min 7s, sys: 21.8 s, total: 2min 29s\n",
      "Wall time: 2min 34s\n"
     ]
    }
   ],
   "source": [
    "%%time\n",
    "mile_diff = multiprocessing(calculate_distance,args,4)"
   ]
  },
  {
   "cell_type": "code",
   "execution_count": 38,
   "metadata": {},
   "outputs": [],
   "source": [
    "df['mile_diff'] = mile_diff"
   ]
  },
  {
   "cell_type": "code",
   "execution_count": 40,
   "metadata": {},
   "outputs": [],
   "source": [
    "df.to_feather(PATH/'houston_processed_miles_time_diff.feather')"
   ]
  },
  {
   "cell_type": "markdown",
   "metadata": {},
   "source": [
    "## time diff (in second)"
   ]
  },
  {
   "cell_type": "code",
   "execution_count": 52,
   "metadata": {},
   "outputs": [],
   "source": [
    "date_shift = df.date_time.shift()\n",
    "date_shift.loc[0] = df.date_time.loc[0]"
   ]
  },
  {
   "cell_type": "code",
   "execution_count": 57,
   "metadata": {},
   "outputs": [],
   "source": [
    "df['sec_diff']=(df.date_time - date_shift).astype('timedelta64[s]')"
   ]
  },
  {
   "cell_type": "code",
   "execution_count": 58,
   "metadata": {},
   "outputs": [],
   "source": [
    "df.to_feather(PATH/'houston_processed_miles_time_diff.feather')"
   ]
  },
  {
   "cell_type": "code",
   "execution_count": 64,
   "metadata": {},
   "outputs": [
    {
     "data": {
      "text/plain": [
       "count    342869.000000\n",
       "mean        107.038435\n",
       "std         229.959529\n",
       "min           0.000000\n",
       "25%          21.000000\n",
       "50%          60.000000\n",
       "75%         123.000000\n",
       "max       46221.000000\n",
       "Name: sec_diff, dtype: float64"
      ]
     },
     "execution_count": 64,
     "metadata": {},
     "output_type": "execute_result"
    }
   ],
   "source": [
    "df.sec_diff.describe()"
   ]
  },
  {
   "cell_type": "code",
   "execution_count": 98,
   "metadata": {},
   "outputs": [
    {
     "data": {
      "text/plain": [
       "(658, 23)"
      ]
     },
     "execution_count": 98,
     "metadata": {},
     "output_type": "execute_result"
    }
   ],
   "source": [
    "df[df.sec_diff>1000].shape\n",
    "# few reasons for high time diff (> 5 hours): phone died, phone inactive at night (rare)"
   ]
  },
  {
   "cell_type": "code",
   "execution_count": 101,
   "metadata": {},
   "outputs": [
    {
     "data": {
      "text/plain": [
       "<matplotlib.axes._subplots.AxesSubplot at 0x7f875887de80>"
      ]
     },
     "execution_count": 101,
     "metadata": {},
     "output_type": "execute_result"
    },
    {
     "data": {
      "image/png": "[encoded data removed]",
      "text/plain": [
       "<Figure size 1080x360 with 1 Axes>"
      ]
     },
     "metadata": {},
     "output_type": "display_data"
    }
   ],
   "source": [
    "df[df.sec_diff<1000].sec_diff.plot(kind='hist',bins=100,figsize=(15,5))\n",
    "#majority of sec diff is < 200"
   ]
  },
  {
   "cell_type": "code",
   "execution_count": 113,
   "metadata": {},
   "outputs": [
    {
     "data": {
      "text/plain": [
       "<matplotlib.axes._subplots.AxesSubplot at 0x7f878b548588>"
      ]
     },
     "execution_count": 113,
     "metadata": {},
     "output_type": "execute_result"
    },
    {
     "data": {
      "image/png": "[encoded data removed]",
      "text/plain": [
       "<Figure size 1440x360 with 1 Axes>"
      ]
     },
     "metadata": {},
     "output_type": "display_data"
    }
   ],
   "source": [
    "df[df.sec_diff<1000].set_index('date_time').sec_diff.resample('D').mean().plot(figsize=(20,5))"
   ]
  },
  {
   "cell_type": "code",
   "execution_count": null,
   "metadata": {},
   "outputs": [],
   "source": [
    "#TODO: try to find a pattern Google uses for time diff"
   ]
  },
  {
   "cell_type": "markdown",
   "metadata": {},
   "source": [
    "# Geographics"
   ]
  },
  {
   "cell_type": "markdown",
   "metadata": {},
   "source": [
    "# TODO: single feature EDA"
   ]
  },
  {
   "cell_type": "code",
   "execution_count": 9,
   "metadata": {},
   "outputs": [
    {
     "data": {
      "text/plain": [
       "accuracy              0.000000\n",
       "altitude             51.663826\n",
       "heading              83.053367\n",
       "latitudeE7            0.000000\n",
       "longitudeE7           0.000000\n",
       "timestampMs           0.000000\n",
       "velocity             98.378713\n",
       "verticalAccuracy    100.000000\n",
       "act_conf1            47.112860\n",
       "act_type1            47.112860\n",
       "act_cont2            74.106045\n",
       "act_type2            74.106045\n",
       "extra_intVal         99.985585\n",
       "extra_name           99.985585\n",
       "extra_type           99.985585\n",
       "dtype: float64"
      ]
     },
     "execution_count": 9,
     "metadata": {},
     "output_type": "execute_result"
    }
   ],
   "source": [
    "(df.isnull().sum() / len(df)) * 100"
   ]
  },
  {
   "cell_type": "markdown",
   "metadata": {},
   "source": [
    "## take a look at feature with high % NaN"
   ]
  },
  {
   "cell_type": "code",
   "execution_count": 11,
   "metadata": {},
   "outputs": [
    {
     "data": {
      "text/plain": [
       "count    59956.000000\n",
       "mean       186.884615\n",
       "std        101.600448\n",
       "min          0.000000\n",
       "25%        107.000000\n",
       "50%        180.000000\n",
       "75%        278.000000\n",
       "max        359.000000\n",
       "Name: heading, dtype: float64"
      ]
     },
     "execution_count": 11,
     "metadata": {},
     "output_type": "execute_result"
    }
   ],
   "source": [
    "df.heading.describe()\n",
    "# look like degree"
   ]
  },
  {
   "cell_type": "code",
   "execution_count": 39,
   "metadata": {},
   "outputs": [
    {
     "data": {
      "text/plain": [
       "<matplotlib.axes._subplots.AxesSubplot at 0x7f3af8adee80>"
      ]
     },
     "execution_count": 39,
     "metadata": {},
     "output_type": "execute_result"
    },
    {
     "data": {
      "image/png": "[encoded data removed]",
      "text/plain": [
       "<Figure size 1080x360 with 1 Axes>"
      ]
     },
     "metadata": {},
     "output_type": "display_data"
    }
   ],
   "source": [
    "df.heading.plot(kind='hist',bins=360,figsize=(15,5))"
   ]
  },
  {
   "cell_type": "code",
   "execution_count": 19,
   "metadata": {},
   "outputs": [
    {
     "data": {
      "text/plain": [
       "count    5736.000000\n",
       "mean        2.391039\n",
       "std         5.903613\n",
       "min         0.000000\n",
       "25%         0.000000\n",
       "50%         0.000000\n",
       "75%         1.000000\n",
       "max        34.000000\n",
       "Name: velocity, dtype: float64"
      ]
     },
     "execution_count": 19,
     "metadata": {},
     "output_type": "execute_result"
    }
   ],
   "source": [
    "df.velocity.describe()"
   ]
  },
  {
   "cell_type": "code",
   "execution_count": 44,
   "metadata": {},
   "outputs": [
    {
     "data": {
      "text/plain": [
       "<matplotlib.axes._subplots.AxesSubplot at 0x7f3af83d2b00>"
      ]
     },
     "execution_count": 44,
     "metadata": {},
     "output_type": "execute_result"
    },
    {
     "data": {
      "image/png": "[encoded data removed]",
      "text/plain": [
       "<Figure size 1080x360 with 1 Axes>"
      ]
     },
     "metadata": {},
     "output_type": "display_data"
    }
   ],
   "source": [
    "df.velocity.plot(kind='hist',bins=35,figsize=(15,5))"
   ]
  },
  {
   "cell_type": "code",
   "execution_count": 51,
   "metadata": {},
   "outputs": [
    {
     "data": {
      "text/plain": [
       "<matplotlib.axes._subplots.AxesSubplot at 0x7f3aeed32a58>"
      ]
     },
     "execution_count": 51,
     "metadata": {},
     "output_type": "execute_result"
    },
    {
     "data": {
      "image/png": "[encoded data removed]",
      "text/plain": [
       "<Figure size 1080x360 with 1 Axes>"
      ]
     },
     "metadata": {},
     "output_type": "display_data"
    }
   ],
   "source": [
    "fig, ax = plt.subplots(figsize=(15,5))\n",
    "sns.countplot(ax=ax,x=df.act_type1,data=df)"
   ]
  },
  {
   "cell_type": "code",
   "execution_count": 20,
   "metadata": {},
   "outputs": [
    {
     "data": {
      "text/plain": [
       "VALUE    51\n",
       "Name: extra_type, dtype: int64"
      ]
     },
     "execution_count": 20,
     "metadata": {},
     "output_type": "execute_result"
    }
   ],
   "source": [
    "df.extra_type.value_counts()"
   ]
  },
  {
   "cell_type": "markdown",
   "metadata": {},
   "source": [
    "# TODO: clustering and plotting cluster"
   ]
  },
  {
   "cell_type": "markdown",
   "metadata": {},
   "source": [
    "# TODO: identify weekday and weekend point"
   ]
  },
  {
   "cell_type": "markdown",
   "metadata": {},
   "source": [
    "# TODO: identify 'home' and 'work' cluster"
   ]
  },
  {
   "cell_type": "markdown",
   "metadata": {},
   "source": [
    "# TODO: identify 'vacation' and other clusters"
   ]
  }
 ],
 "metadata": {
  "kernelspec": {
   "display_name": "Python 3",
   "language": "python",
   "name": "python3"
  },
  "language_info": {
   "codemirror_mode": {
    "name": "ipython",
    "version": 3
   },
   "file_extension": ".py",
   "mimetype": "text/x-python",
   "name": "python",
   "nbconvert_exporter": "python",
   "pygments_lexer": "ipython3",
   "version": "3.6.6"
  },
  "varInspector": {
   "cols": {
    "lenName": 16,
    "lenType": 16,
    "lenVar": 40
   },
   "kernels_config": {
    "python": {
     "delete_cmd_postfix": "",
     "delete_cmd_prefix": "del ",
     "library": "var_list.py",
     "varRefreshCmd": "print(var_dic_list())"
    },
    "r": {
     "delete_cmd_postfix": ") ",
     "delete_cmd_prefix": "rm(",
     "library": "var_list.r",
     "varRefreshCmd": "cat(var_dic_list()) "
    }
   },
   "types_to_exclude": [
    "module",
    "function",
    "builtin_function_or_method",
    "instance",
    "_Feature"
   ],
   "window_display": false
  }
 },
 "nbformat": 4,
 "nbformat_minor": 2
}
